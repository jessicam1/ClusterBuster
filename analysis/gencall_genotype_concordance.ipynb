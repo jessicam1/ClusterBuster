{
 "cells": [
  {
   "cell_type": "markdown",
   "id": "cca710a6-996f-4b4a-a558-cb4429741dcf",
   "metadata": {},
   "source": [
    "# Investigating Gencall Genotype Concordance with WGS and Imputed Genotypes"
   ]
  },
  {
   "cell_type": "markdown",
   "id": "2b62c987-e329-4d51-9d2b-fc2374509647",
   "metadata": {},
   "source": [
    "This notebook:\n",
    "1. Calculates concordance rates between Gencall genotypes, imputed genotypes, and WGS.\n",
    "2. Compares Gencall genotype concordance with Cluster Busterpredicted genotype concordance per snpID.\n",
    "3. Correlates Gencall concordance with GenTrain Score.\n",
    "4. Finds new snpIDS that GP2 should exclude from Gencall genotyping based on lower concordance rates.\n",
    "5. Compares mean predicted genotype concordance between included and excluded SNPs (high vs low concordance rates) per gene."
   ]
  },
  {
   "cell_type": "markdown",
   "id": "d8f7e6bb-d016-49dd-b94c-11ed9b176058",
   "metadata": {},
   "source": [
    "Imports"
   ]
  },
  {
   "cell_type": "code",
   "execution_count": 85,
   "id": "b93b5acc-1f24-4c6f-a3af-f150f030c6f2",
   "metadata": {},
   "outputs": [],
   "source": [
    "import os\n",
    "import sys\n",
    "import string\n",
    "import numpy as np\n",
    "import pandas as pd\n",
    "import seaborn as sns\n",
    "import matplotlib.pyplot as plt\n",
    "import plotly.express as px\n",
    "import matplotlib.image as mpimg\n",
    "import plotly.subplots as sp\n",
    "import plotly.graph_objects as go\n",
    "from sklearn.linear_model import LinearRegression\n",
    "from scipy.stats import pearsonr\n",
    "from scipy.stats import ttest_ind, mannwhitneyu"
   ]
  },
  {
   "cell_type": "markdown",
   "id": "d7fe1b60-d852-4c41-aef9-114c95840148",
   "metadata": {},
   "source": [
    "# Calculate Concordance Rates Between Gencall, Imputed, and WGS Genotypes"
   ]
  },
  {
   "cell_type": "markdown",
   "id": "1554de5c-e1bd-454a-8cd6-b9787a723f96",
   "metadata": {},
   "source": [
    "Load CSV containing GP2 release7 SNP metrics including Gencall genotype (GT), imputed genotype (GT_imputed), and WGS (GT_wgs).\n",
    "This file is produced in render_analyze_predicted_genotypes.ipynb."
   ]
  },
  {
   "cell_type": "code",
   "execution_count": 39,
   "id": "515e5817-a9f8-4773-b1ee-db5a0e34352d",
   "metadata": {},
   "outputs": [
    {
     "name": "stderr",
     "output_type": "stream",
     "text": [
      "/tmp/ipykernel_3569611/1555400438.py:1: DtypeWarning: Columns (21,23,30,31) have mixed types. Specify dtype option on import or set low_memory=False.\n",
      "  df = pd.read_csv(\"data/fresh_run/release7_predictions_imputations_wgs.csv\", sep=\",\")\n"
     ]
    }
   ],
   "source": [
    "df = pd.read_csv(\"data/fresh_run/release7_predictions_imputations_wgs.csv\", sep=\",\")"
   ]
  },
  {
   "cell_type": "markdown",
   "id": "9a6a4470-402a-4a45-a4e0-e7e7a9b2e531",
   "metadata": {},
   "source": [
    "Keep only samples with a valid Gencall genotype (AA, AB, BB)."
   ]
  },
  {
   "cell_type": "code",
   "execution_count": 40,
   "id": "1904a70f-d557-4a97-ae1b-bfe8917de0eb",
   "metadata": {},
   "outputs": [],
   "source": [
    "df = df.loc[df[\"GT\"].isin([\"AA\",\"AB\",\"BB\"])]"
   ]
  },
  {
   "cell_type": "markdown",
   "id": "88c847f1-fa91-474f-9c28-403dd56b9948",
   "metadata": {},
   "source": [
    "Create boolean columns that indicate if Gencall genotype is concordant with imputed genotype (gencall_imputed_concordant) and WGS genotype (gencall_wgs_concordant).\n",
    "Also create a boolean column indicating if imputed genotype and WGS agree (wgs_imputed_concordant)."
   ]
  },
  {
   "cell_type": "code",
   "execution_count": 41,
   "id": "69db8df2-ed72-44fc-af5e-215d0d8025e4",
   "metadata": {},
   "outputs": [],
   "source": [
    "df['gencall_wgs_concordant'] = df[\"GT\"] == df[\"GT_wgs\"]\n",
    "df['gencall_imputed_concordant'] = df[\"GT\"] == df[\"GT_imputed\"]\n",
    "df['wgs_imputed_concordant'] = df[\"GT_wgs\"] == df[\"GT_imputed\"]\n",
    "\n",
    "df['gencall_wgs_concordant'] = df['gencall_wgs_concordant'].mask(df[\"GT_wgs\"].isna(), np.nan)\n",
    "df['gencall_imputed_concordant'] = df['gencall_imputed_concordant'].mask(df[\"GT_imputed\"].isna(), np.nan)\n",
    "df['wgs_imputed_concordant'] = df['wgs_imputed_concordant'].mask(df[\"GT_wgs\"].isna(), np.nan)\n",
    "df['wgs_imputed_concordant'] = df['wgs_imputed_concordant'].mask(df[\"GT_imputed\"].isna(), np.nan)"
   ]
  },
  {
   "cell_type": "markdown",
   "id": "31470e68-b465-49fe-9d60-d175159875e7",
   "metadata": {},
   "source": [
    "Calculate a \"summary concordance\" that takes imputed genotypes and WGS into account and calculate summary concordance rate per snpID."
   ]
  },
  {
   "cell_type": "code",
   "execution_count": 42,
   "id": "04e421af-0015-44eb-bae9-0c68bc066331",
   "metadata": {},
   "outputs": [],
   "source": [
    "def determine_concordant_summary(row):\n",
    "    if row['gencall_wgs_concordant'] == True:\n",
    "        return True\n",
    "    if row['gencall_wgs_concordant'] == False:\n",
    "        return False\n",
    "    if pd.isnull(row[\"gencall_wgs_concordant\"]) and row[\"gencall_imputed_concordant\"] == True:\n",
    "        return True\n",
    "    if pd.isnull(row[\"gencall_wgs_concordant\"]) and row[\"gencall_imputed_concordant\"] == False:\n",
    "        return False\n",
    "    if pd.isnull(row[\"gencall_wgs_concordant\"]) and pd.isnull(row[\"gencall_imputed_concordant\"]):\n",
    "        return np.NaN\n",
    "\n",
    "df['concordant_summary'] = df.apply(determine_concordant_summary, axis=1)"
   ]
  },
  {
   "cell_type": "markdown",
   "id": "eab0c2e7-f9e2-4d39-9434-080fbc00608d",
   "metadata": {},
   "source": [
    "Calculate concordance rate per snpID between gencall genotypes and imputed genotypes"
   ]
  },
  {
   "cell_type": "code",
   "execution_count": 43,
   "id": "eea9484b-1dfd-460c-be7d-323b4c188b0d",
   "metadata": {},
   "outputs": [],
   "source": [
    "gencall_imputed_concordance = df.groupby('snpID')['gencall_imputed_concordant'].mean() * 100\n",
    "gencall_imputed_concordance = gencall_imputed_concordance.to_frame().reset_index()"
   ]
  },
  {
   "cell_type": "markdown",
   "id": "315dc200-2214-45cb-9874-c743d6325871",
   "metadata": {},
   "source": [
    "Calculate concordance rate per snpID between gencall genotypes and WGS genotypes"
   ]
  },
  {
   "cell_type": "code",
   "execution_count": 44,
   "id": "e82e800b-2955-4d75-833b-c02c2604aa02",
   "metadata": {},
   "outputs": [],
   "source": [
    "gencall_wgs_concordance = df.groupby('snpID')['gencall_wgs_concordant'].mean() * 100\n",
    "gencall_wgs_concordance = gencall_wgs_concordance.to_frame().reset_index()"
   ]
  },
  {
   "cell_type": "markdown",
   "id": "ef1d2f56-5c8b-488e-9404-464ed0713d88",
   "metadata": {},
   "source": [
    "Calculate concordance rate per snpID between imputed genotypes and WGS genotypes"
   ]
  },
  {
   "cell_type": "code",
   "execution_count": 45,
   "id": "83d2f6b7-57a0-4d6b-9eb1-802376e0521b",
   "metadata": {},
   "outputs": [],
   "source": [
    "wgs_imputed_concordance = df.groupby('snpID')['wgs_imputed_concordant'].mean() * 100\n",
    "wgs_imputed_concordance = wgs_imputed_concordance.to_frame().reset_index()"
   ]
  },
  {
   "cell_type": "code",
   "execution_count": 46,
   "id": "37dc6f98-c6fd-407b-afca-4b9b6cc4008d",
   "metadata": {},
   "outputs": [],
   "source": [
    "summary_concordance = df.groupby('snpID')['concordant_summary'].mean() * 100\n",
    "summary_concordance = summary_concordance.to_frame().reset_index()"
   ]
  },
  {
   "cell_type": "markdown",
   "id": "0b037e8b-1874-4ae3-a24b-646beff1b4ef",
   "metadata": {},
   "source": [
    "Create summary dataframe with all four concordance rates per snpID."
   ]
  },
  {
   "cell_type": "code",
   "execution_count": 47,
   "id": "93b848ce-1b78-4b2f-bcaa-7191484bda7f",
   "metadata": {},
   "outputs": [],
   "source": [
    "merged = gencall_imputed_concordance.merge(gencall_wgs_concordance, on=\"snpID\")\n",
    "merged = merged.merge(summary_concordance, on=\"snpID\")\n",
    "concordance = merged.merge(wgs_imputed_concordance, on=\"snpID\")"
   ]
  },
  {
   "cell_type": "markdown",
   "id": "13fb549e-9f58-4345-a9b0-aa8fb2cbffd6",
   "metadata": {},
   "source": [
    "Add a gene and GenTrain_Score column."
   ]
  },
  {
   "cell_type": "code",
   "execution_count": 49,
   "id": "28a50dec-3ae2-4037-b056-b07c527b2d14",
   "metadata": {},
   "outputs": [],
   "source": [
    "concordance = concordance.merge(df[[\"snpID\", \"gene\", \"GenTrain_Score\"]], how=\"left\")\n",
    "concordance = concordance.drop_duplicates()"
   ]
  },
  {
   "cell_type": "markdown",
   "id": "fb893d67-fdd8-44c6-a5b2-1531125ff1f3",
   "metadata": {},
   "source": [
    "Clean up columns."
   ]
  },
  {
   "cell_type": "code",
   "execution_count": 50,
   "id": "e72567fb-5dd8-46db-891a-3be56c1e4ae0",
   "metadata": {},
   "outputs": [],
   "source": [
    "concordance = concordance.rename(columns={\"gencall_imputed_concordant\":\"gencall_imputed_concordance_rate\",\n",
    "                                          \"gencall_wgs_concordant\":\"gencall_wgs_concordance_rate\",\n",
    "                                          \"wgs_imputed_concordant\":\"wgs_imputed_concordance_rate\",\n",
    "                                          \"concordant_summary\": \"summary_concordance_rate\",\n",
    "                                         })"
   ]
  },
  {
   "cell_type": "code",
   "execution_count": 51,
   "id": "0aafa938-3db4-4642-8112-7bdcde1775d8",
   "metadata": {},
   "outputs": [],
   "source": [
    "numeric_cols = [\"gencall_imputed_concordance_rate\", \"gencall_wgs_concordance_rate\", \"wgs_imputed_concordance_rate\"]\n",
    "concordance[numeric_cols] = concordance[numeric_cols].apply(pd.to_numeric, errors='coerce')\n",
    "\n",
    "concordance[numeric_cols] = concordance[numeric_cols].round(2)"
   ]
  },
  {
   "cell_type": "markdown",
   "id": "7b24bf2b-2fa6-432e-88f0-b8f5c79a6c31",
   "metadata": {},
   "source": [
    "Save to a csv."
   ]
  },
  {
   "cell_type": "code",
   "execution_count": 53,
   "id": "ca04698f-6758-4c51-8cc4-991229178d77",
   "metadata": {},
   "outputs": [],
   "source": [
    "concordance.to_csv(\"data/fresh_run/gencall_genotypes_concordance_rates.csv\", index=False)"
   ]
  },
  {
   "cell_type": "markdown",
   "id": "197b8ca5-ee2b-40f5-abe6-03905dfa2d5b",
   "metadata": {},
   "source": [
    "# Analysis"
   ]
  },
  {
   "cell_type": "markdown",
   "id": "fe723e5e-1bc7-4936-bac4-3b36ca1cffc4",
   "metadata": {},
   "source": [
    "See how many SNPs per gene have concordance rate lower than 90% between Gencall genotypes and imputed genotypes and WGS."
   ]
  },
  {
   "cell_type": "code",
   "execution_count": 54,
   "id": "ac0b94b6-2e60-4681-a002-a27648af70c6",
   "metadata": {},
   "outputs": [
    {
     "data": {
      "text/plain": [
       "gene\n",
       "APOE      3\n",
       "LRRK2    14\n",
       "SNCA      6\n",
       "dtype: int64"
      ]
     },
     "execution_count": 54,
     "metadata": {},
     "output_type": "execute_result"
    }
   ],
   "source": [
    "threshold = 90\n",
    "wgs_snp_ids = set(concordance.loc[concordance[\"gencall_wgs_concordance_rate\"] < threshold, \"snpID\"])\n",
    "imp_snp_ids = set(concordance.loc[concordance[\"gencall_imputed_concordance_rate\"] < threshold, \"snpID\"])\n",
    "combined_snp_ids = wgs_snp_ids.union(imp_snp_ids)\n",
    "snp_list = list(combined_snp_ids)\n",
    "\n",
    "concordance_below_threshold = concordance.loc[concordance[\"snpID\"].isin(snp_list)]\n",
    "concordance_below_threshold.groupby(\"gene\").size().astype(\"int\")"
   ]
  },
  {
   "cell_type": "markdown",
   "id": "2d97e3db-98d8-43f2-9b28-a851515d96ed",
   "metadata": {},
   "source": [
    "## Compare Gencall GT Concordance with Predicted GT Concordance"
   ]
  },
  {
   "cell_type": "markdown",
   "id": "f3d7d012-898b-4df6-b162-67a3b930623b",
   "metadata": {},
   "source": [
    "Load concordance rate files for Gencall genotypes and predicted genotypes."
   ]
  },
  {
   "cell_type": "code",
   "execution_count": 56,
   "id": "24ee22ce-7fc6-4f6c-a063-634c446e58ed",
   "metadata": {},
   "outputs": [],
   "source": [
    "concordance = pd.read_csv(\"data/fresh_run/gencall_genotypes_concordance_rates.csv\", sep=\",\")\n",
    "predicted = pd.read_csv(\"data/fresh_run/predicted_genotypes_concordance_rates.csv\", sep=\",\")"
   ]
  },
  {
   "cell_type": "markdown",
   "id": "a6dd211b-00be-4f9b-b9ff-c006734aff53",
   "metadata": {},
   "source": [
    "Clean up columns."
   ]
  },
  {
   "cell_type": "code",
   "execution_count": 66,
   "id": "168edbae-6872-4230-b24e-b0b950312af8",
   "metadata": {},
   "outputs": [],
   "source": [
    "snp_info = predicted.merge(concordance, on=\"snpID\", how=\"inner\", suffixes=(\"\",\"_y\"))\n",
    "snp_info = snp_info.rename(columns={\"concordant_wgs\":\"predicted_wgs_concordance_rate\", \n",
    "                                    \"concordant_imputed\":\"predicted_imputed_concordance_rate\", \n",
    "                                    \"concordant_summary\":\"predicted_summary_concordance_rate\", \n",
    "                                    \"summary_concordance_rate\":\"gencall_summary_concordance_rate\", \n",
    "                                    \"gene_x\":\"gene\"})\n",
    "snp_info = snp_info.drop(columns=\"gene_y\")"
   ]
  },
  {
   "cell_type": "markdown",
   "id": "ca202c37-cfbe-49ee-9b39-92b2eb7e41f2",
   "metadata": {},
   "source": [
    "Explore pearson correlation and linear regression between predicted genotype and Gencall genotype concordance rates."
   ]
  },
  {
   "cell_type": "code",
   "execution_count": 67,
   "id": "8be0b0c0-e903-4242-9347-3b34e1ffc782",
   "metadata": {},
   "outputs": [
    {
     "name": "stdout",
     "output_type": "stream",
     "text": [
      "0.1810054392372644\n",
      "0.2536603952470122\n"
     ]
    }
   ],
   "source": [
    "corr_wgs = snp_info[\"predicted_wgs_concordance_rate\"].corr(snp_info[\"gencall_wgs_concordance_rate\"])\n",
    "corr_imp = snp_info[\"predicted_imputed_concordance_rate\"].corr(snp_info[\"gencall_imputed_concordance_rate\"])\n",
    "print(corr_wgs)\n",
    "print(corr_imp)"
   ]
  },
  {
   "cell_type": "code",
   "execution_count": 78,
   "id": "d9118cdf-86f6-418a-949d-2285d0ca4895",
   "metadata": {},
   "outputs": [
    {
     "name": "stdout",
     "output_type": "stream",
     "text": [
      "Intercept: 20.171382393006866\n",
      "Slope: 0.36679596032543577\n",
      "R-squared: 0.032762969033474976\n",
      "R value: 0.18100543923726448\n"
     ]
    }
   ],
   "source": [
    "wgs = snp_info.dropna(subset=[\"gencall_wgs_concordance_rate\",\"predicted_wgs_concordance_rate\"])\n",
    "X = wgs[[\"gencall_wgs_concordance_rate\"]]\n",
    "Y = wgs[\"predicted_wgs_concordance_rate\"]\n",
    "\n",
    "model = LinearRegression()\n",
    "model.fit(X, Y)\n",
    "\n",
    "intercept = model.intercept_\n",
    "slope = model.coef_[0]\n",
    "\n",
    "r_squared = model.score(X, Y)\n",
    "r_value, _ = pearsonr(wgs[\"gencall_wgs_concordance_rate\"], wgs[\"predicted_wgs_concordance_rate\"])\n",
    "\n",
    "print(f'Intercept: {intercept}')\n",
    "print(f'Slope: {slope}')\n",
    "print(f\"R-squared: {r_squared}\")\n",
    "print(f\"R value: {r_value}\")"
   ]
  },
  {
   "cell_type": "code",
   "execution_count": 80,
   "id": "afe78d46-c351-4202-9c26-3a2c61fc3df2",
   "metadata": {},
   "outputs": [
    {
     "name": "stdout",
     "output_type": "stream",
     "text": [
      "Intercept: 5.306885071624009\n",
      "Slope: 0.7597246399490156\n",
      "R-squared: 0.06434359611687068\n",
      "R value: 0.2536603952470124\n"
     ]
    }
   ],
   "source": [
    "imputed = snp_info.dropna(subset=[\"gencall_imputed_concordance_rate\",\"predicted_imputed_concordance_rate\"])\n",
    "X = imputed[[\"gencall_imputed_concordance_rate\"]]\n",
    "Y = imputed[\"predicted_imputed_concordance_rate\"]\n",
    "\n",
    "model = LinearRegression()\n",
    "model.fit(X, Y)\n",
    "\n",
    "intercept = model.intercept_\n",
    "slope = model.coef_[0]\n",
    "\n",
    "r_squared = model.score(X, Y)\n",
    "r_value, _ = pearsonr(imputed[\"gencall_imputed_concordance_rate\"], imputed[\"predicted_imputed_concordance_rate\"])\n",
    "\n",
    "print(f'Intercept: {intercept}')\n",
    "print(f'Slope: {slope}')\n",
    "print(f\"R-squared: {r_squared}\")\n",
    "print(f\"R value: {r_value}\")"
   ]
  },
  {
   "cell_type": "markdown",
   "id": "2f6ddf9b-05aa-4188-b156-0e7fe3df4aa0",
   "metadata": {},
   "source": [
    "## Compare Concordance with GenTrain Score"
   ]
  },
  {
   "cell_type": "markdown",
   "id": "7d7c9cee-4a7e-44be-b696-bc37b85dec98",
   "metadata": {},
   "source": [
    "See if their is a correlation between concordance and GenTrain Score (Illumina's clustering score)"
   ]
  },
  {
   "cell_type": "code",
   "execution_count": 180,
   "id": "f42df21d-ed75-4db5-8834-8b4f87d32b58",
   "metadata": {},
   "outputs": [
    {
     "name": "stderr",
     "output_type": "stream",
     "text": [
      "/tmp/ipykernel_2038226/3577705040.py:2: DtypeWarning:\n",
      "\n",
      "Columns (25,26,41,42,46,47,49,50,51,52,58,59,60,67,69) have mixed types. Specify dtype option on import or set low_memory=False.\n",
      "\n"
     ]
    }
   ],
   "source": [
    "concordance = pd.read_csv(\"data/gencall_concordance_rates.csv\", sep=\",\")\n",
    "preds = pd.read_csv(\"data/wgs_and_imputation_predictions/release7_predictions_imputations_wgs.csv\", sep=\",\")"
   ]
  },
  {
   "cell_type": "code",
   "execution_count": 191,
   "id": "fc8911e1-9d3f-48ce-bdbe-bfbeb13d7657",
   "metadata": {},
   "outputs": [
    {
     "name": "stdout",
     "output_type": "stream",
     "text": [
      "0.4752748853589082\n",
      "0.4582340997006452\n"
     ]
    }
   ],
   "source": [
    "imp_gts_corr = concordance[\"gencall_imputed_concordance_rate\"].corr(concordance[\"GenTrain_Score\"])\n",
    "print(imp_gts_corr)\n",
    "wgs_gts_corr = concordance[\"gencall_wgs_concordance_rate\"].corr(concordance[\"GenTrain_Score\"])\n",
    "print(wgs_gts_corr)"
   ]
  },
  {
   "cell_type": "markdown",
   "id": "8251bab0-9b01-409b-b503-b39ab635e748",
   "metadata": {},
   "source": [
    "## Find SNPs to Exclude Based on Concordance"
   ]
  },
  {
   "cell_type": "markdown",
   "id": "5547257c-4453-49f8-8ad8-960ead196410",
   "metadata": {},
   "source": [
    "GP2 tracks snpIDs that perform poorly with GenomeStudio Gencall genotyping software. This section finds if there are any untracked SNPs that should also be discluded, based on low concordance rates between Gencall genotypes and imputed genotypes and WGS."
   ]
  },
  {
   "cell_type": "code",
   "execution_count": 94,
   "id": "4c141bb6-92b2-4fd2-ac6e-a7103ae74a71",
   "metadata": {},
   "outputs": [],
   "source": [
    "concordance = pd.read_csv(\"data/fresh_run/gencall_genotypes_concordance_rates.csv\", sep=\",\")\n",
    "exclude = pd.read_csv(\"data/snps_to_exclude.txt\", names=[\"snpID\"], sep=\"\\s+\")"
   ]
  },
  {
   "cell_type": "code",
   "execution_count": null,
   "id": "d3b92593-49cc-4ac8-a544-56ce35f16b48",
   "metadata": {},
   "outputs": [],
   "source": [
    "excluded = concordance.loc[concordance[\"snpID\"].isin(exclude[\"snpID\"].unique().tolist())]"
   ]
  },
  {
   "cell_type": "code",
   "execution_count": null,
   "id": "46e21316-8a0c-4bfe-99ca-22d2a5be97a5",
   "metadata": {},
   "outputs": [],
   "source": [
    "included = concordance.loc[~concordance[\"snpID\"].isin(exclude[\"snpID\"].unique().tolist())]"
   ]
  },
  {
   "cell_type": "code",
   "execution_count": 93,
   "id": "c6274590-b1ee-4947-ac47-f698d5c30cc9",
   "metadata": {},
   "outputs": [],
   "source": [
    "threshold = 90\n",
    "poor_included = included.loc[(included[\"gencall_imputed_concordance_rate\"] < threshold) |\n",
    "                            (included[\"gencall_wgs_concordance_rate\"] < threshold)]"
   ]
  },
  {
   "cell_type": "code",
   "execution_count": 91,
   "id": "ca36211f-3738-4158-96ea-0b070650791b",
   "metadata": {},
   "outputs": [
    {
     "data": {
      "text/plain": [
       "gene\n",
       "APOE      3\n",
       "LRRK2    14\n",
       "SNCA      5\n",
       "dtype: int64"
      ]
     },
     "execution_count": 91,
     "metadata": {},
     "output_type": "execute_result"
    }
   ],
   "source": [
    "poor_included.groupby(\"gene\").size().astype(int)"
   ]
  },
  {
   "cell_type": "code",
   "execution_count": 92,
   "id": "3f4522da-c048-4b3e-b4cd-1c4d167749ba",
   "metadata": {},
   "outputs": [],
   "source": [
    "with open(\"data/fresh_run/new_snps_to_exclude.txt\", \"w\") as f:\n",
    "    for snpID in poor_included[\"snpID\"].unique():\n",
    "        f.write(snpID + \"\\n\")\n",
    "f.close()"
   ]
  },
  {
   "cell_type": "markdown",
   "id": "eb64441a-bdd8-4c0d-9c6d-9ae10d6f968b",
   "metadata": {},
   "source": [
    "## Compare Predicted Genotype Concordance in SNPs Included and Excluded by GP2"
   ]
  },
  {
   "cell_type": "markdown",
   "id": "59e626d3-6aea-4e71-93a8-9e7b0a9eb0f0",
   "metadata": {},
   "source": [
    "GP2 tracks snpIDs that perform poorly with GenomeStudio Gencall genotyping software. This section determines significance of Cluster Buster difference in performance (concordance rates) between snpIDs that are excluded and included from Gencall genotyping by GP2."
   ]
  },
  {
   "cell_type": "markdown",
   "id": "f17f801f-62b4-470e-b844-8ad292ef9e7e",
   "metadata": {},
   "source": [
    "Load file with Gencall, predicted, imputed, and WGS genotypes if necessary."
   ]
  },
  {
   "cell_type": "code",
   "execution_count": 100,
   "id": "3b40573e-6df0-4fcd-b0da-be7c41fbc398",
   "metadata": {},
   "outputs": [],
   "source": [
    "df = pd.read_csv(\"data/fresh_run/release7_predictions_imputations_wgs.csv\", sep=\",\")\n",
    "predictions = df.loc[df[\"GT\"] == \"NC\"].copy()"
   ]
  },
  {
   "cell_type": "markdown",
   "id": "7d8a9d68-97c0-41c0-b58a-f9854ddf94f3",
   "metadata": {},
   "source": [
    "Load file with concordance rates between Cluster Buster predicted genotypes and imputed genotypes and WGS."
   ]
  },
  {
   "cell_type": "code",
   "execution_count": 108,
   "id": "03559639-b254-4623-b91b-c735739fbaea",
   "metadata": {},
   "outputs": [],
   "source": [
    "pred_concordance = pd.read_csv(\"data/fresh_run/predicted_genotypes_concordance_rates.csv\", sep=\",\")"
   ]
  },
  {
   "cell_type": "markdown",
   "id": "efde6650-32d9-4e0f-b76d-f733431cf3ed",
   "metadata": {},
   "source": [
    "Load list of GP2 excluded SNPs a"
   ]
  },
  {
   "cell_type": "code",
   "execution_count": 109,
   "id": "e640891c-ae2e-403d-ad2a-2562c34ba0d0",
   "metadata": {},
   "outputs": [],
   "source": [
    "exclude = pd.read_csv(\"data/snps_to_exclude.txt\", names=[\"snpID\"], sep=\"\\s+\")\n",
    "new_exclude = pd.read_csv(\"data/fresh_run/new_snps_to_exclude.txt\", names=[\"snpID\"], sep=\"\\s+\")\n",
    "exclude = pd.concat([exclude, new_exclude])"
   ]
  },
  {
   "cell_type": "code",
   "execution_count": 110,
   "id": "58320b8d-f1fe-45b1-a65d-ab2158e7901a",
   "metadata": {},
   "outputs": [],
   "source": [
    "excluded = predictions.loc[predictions[\"snpID\"].isin(exclude[\"snpID\"].unique().tolist())]\n",
    "included = predictions.loc[~predictions[\"snpID\"].isin(excluded[\"snpID\"].unique().tolist())]"
   ]
  },
  {
   "cell_type": "code",
   "execution_count": 111,
   "id": "12eca974-69e8-4a7f-8003-e95212b3a694",
   "metadata": {},
   "outputs": [],
   "source": [
    "excluded_snps = exclude[\"snpID\"].unique().tolist()\n",
    "pred_concordance['excluded'] = pred_concordance['snpID'].apply(lambda x: 1 if x in excluded_snps else 0)"
   ]
  },
  {
   "cell_type": "code",
   "execution_count": 114,
   "id": "c17b351b-48eb-42bd-a324-968e6f4d2278",
   "metadata": {},
   "outputs": [
    {
     "data": {
      "image/png": "[encoded data removed]",
      "text/plain": [
       "<Figure size 1200x800 with 1 Axes>"
      ]
     },
     "metadata": {},
     "output_type": "display_data"
    }
   ],
   "source": [
    "plt.figure(figsize=(12, 8))\n",
    "palette = {1: 'cornflowerblue', 0: 'lightgreen'}\n",
    "sns.boxplot(x='gene', y='concordant_summary', hue='excluded', hue_order=[1,0], palette=palette, data=pred_concordance)\n",
    "\n",
    "plt.title('Summary Concordance of Predicted Genotypes by SNP Exclusion Status and Gene')\n",
    "plt.xlabel('Gene')\n",
    "plt.ylabel('Concordance Summary')\n",
    "\n",
    "medians = pred_concordance.groupby(['gene', 'excluded'])['concordant_summary'].median().reset_index()\n",
    "for i in range(medians.shape[0]):\n",
    "    gene = medians['gene'].iloc[i]\n",
    "    excluded = medians['excluded'].iloc[i]\n",
    "    median_value = medians['concordant_summary'].iloc[i]\n",
    "    x_pos = list(concordance['gene'].unique()).index(gene) + (-0.2 if excluded == 1 else 0.2)\n",
    "    plt.text(x_pos, median_value + 0.7, f'{median_value:.2f}%', ha='center', va='center', fontweight='bold', color='black')\n",
    "\n",
    "\n",
    "handles, labels = plt.gca().get_legend_handles_labels()\n",
    "new_labels = ['excluded', 'included']\n",
    "plt.legend(handles, new_labels, title='SNP Status', bbox_to_anchor=(1.05, 1), loc='upper left')\n",
    "\n",
    "plt.savefig('figures/preprint/new_boxplot_predicted_excluded_vs_included_snps.pdf', bbox_inches='tight')\n",
    "plt.show()\n"
   ]
  },
  {
   "cell_type": "markdown",
   "id": "2321ab3a-2cae-4f77-970d-6e32fbeaf19a",
   "metadata": {},
   "source": [
    "### MannWhitneyU"
   ]
  },
  {
   "cell_type": "code",
   "execution_count": 116,
   "id": "17126996-6899-4d58-92bf-1f831a206af7",
   "metadata": {},
   "outputs": [
    {
     "data": {
      "text/html": [
       "<div>\n",
       "<style scoped>\n",
       "    .dataframe tbody tr th:only-of-type {\n",
       "        vertical-align: middle;\n",
       "    }\n",
       "\n",
       "    .dataframe tbody tr th {\n",
       "        vertical-align: top;\n",
       "    }\n",
       "\n",
       "    .dataframe thead th {\n",
       "        text-align: right;\n",
       "    }\n",
       "</style>\n",
       "<table border=\"1\" class=\"dataframe\">\n",
       "  <thead>\n",
       "    <tr style=\"text-align: right;\">\n",
       "      <th></th>\n",
       "      <th>gene</th>\n",
       "      <th>p_value</th>\n",
       "      <th>excluded_0_mean</th>\n",
       "      <th>excluded_1_mean</th>\n",
       "      <th>t_stat</th>\n",
       "    </tr>\n",
       "  </thead>\n",
       "  <tbody>\n",
       "    <tr>\n",
       "      <th>0</th>\n",
       "      <td>APOE</td>\n",
       "      <td>0.000582</td>\n",
       "      <td>83.400130</td>\n",
       "      <td>59.607926</td>\n",
       "      <td>927.0</td>\n",
       "    </tr>\n",
       "    <tr>\n",
       "      <th>1</th>\n",
       "      <td>GBA</td>\n",
       "      <td>0.192531</td>\n",
       "      <td>71.422479</td>\n",
       "      <td>41.118595</td>\n",
       "      <td>247.0</td>\n",
       "    </tr>\n",
       "    <tr>\n",
       "      <th>2</th>\n",
       "      <td>LRRK2</td>\n",
       "      <td>0.001821</td>\n",
       "      <td>72.825863</td>\n",
       "      <td>49.509807</td>\n",
       "      <td>4319.0</td>\n",
       "    </tr>\n",
       "    <tr>\n",
       "      <th>3</th>\n",
       "      <td>SNCA</td>\n",
       "      <td>0.002249</td>\n",
       "      <td>73.278976</td>\n",
       "      <td>52.415768</td>\n",
       "      <td>303.0</td>\n",
       "    </tr>\n",
       "  </tbody>\n",
       "</table>\n",
       "</div>"
      ],
      "text/plain": [
       "    gene   p_value  excluded_0_mean  excluded_1_mean  t_stat\n",
       "0   APOE  0.000582        83.400130        59.607926   927.0\n",
       "1    GBA  0.192531        71.422479        41.118595   247.0\n",
       "2  LRRK2  0.001821        72.825863        49.509807  4319.0\n",
       "3   SNCA  0.002249        73.278976        52.415768   303.0"
      ]
     },
     "execution_count": 116,
     "metadata": {},
     "output_type": "execute_result"
    }
   ],
   "source": [
    "result = []\n",
    "\n",
    "for gene, group in pred_concordance.groupby('gene'):\n",
    "    excluded_0 = group[group['excluded'] == 0]['concordant_summary']\n",
    "    excluded_1 = group[group['excluded'] == 1]['concordant_summary']\n",
    "    \n",
    "    if len(excluded_0) > 1 and len(excluded_1) > 1:\n",
    "        t_stat, p_value = mannwhitneyu(excluded_0, excluded_1)\n",
    "        \n",
    "        result.append({\n",
    "            'gene': gene,\n",
    "            'p_value': p_value,\n",
    "            'excluded_0_mean': excluded_0.mean(),\n",
    "            'excluded_1_mean': excluded_1.mean(),\n",
    "            't_stat': t_stat\n",
    "        })\n",
    "\n",
    "result_df = pd.DataFrame(result)\n",
    "result_df"
   ]
  },
  {
   "cell_type": "code",
   "execution_count": null,
   "id": "e3f532bc-0dc8-4816-ab3a-cd9ccb479224",
   "metadata": {},
   "outputs": [],
   "source": []
  }
 ],
 "metadata": {
  "kernelspec": {
   "display_name": "Python 3 (ipykernel)",
   "language": "python",
   "name": "python3"
  },
  "language_info": {
   "codemirror_mode": {
    "name": "ipython",
    "version": 3
   },
   "file_extension": ".py",
   "mimetype": "text/x-python",
   "name": "python",
   "nbconvert_exporter": "python",
   "pygments_lexer": "ipython3",
   "version": "3.9.19"
  }
 },
 "nbformat": 4,
 "nbformat_minor": 5
}
