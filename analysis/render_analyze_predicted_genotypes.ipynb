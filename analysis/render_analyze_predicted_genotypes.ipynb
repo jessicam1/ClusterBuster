{
 "cells": [
  {
   "cell_type": "markdown",
   "id": "138ab144-0a1c-47fa-984d-daaacc2a0c32",
   "metadata": {},
   "source": [
    "# Render and Analyze Predicted Genotypes"
   ]
  },
  {
   "cell_type": "markdown",
   "id": "56b89c89-3abf-4485-8372-66ad54cbb264",
   "metadata": {},
   "source": [
    "This notebook achieves the following:\n",
    "1. Renders genotype prediction using Cluster Buster on GP2 non-GDPR release 7 data.\n",
    "2. Processes imputed genotypes all the way from PLINK extraction to data transforming.\n",
    "3. Processes WGS genotypes all the way from PLINK extraction to data transforming.\n",
    "4. Compares predicted genotypes with imputed genotypes and WGS genotypes\n",
    "5. Analyzes rates of concordance per snpID between predicted genotypes and imputed and WGS genotypes."
   ]
  },
  {
   "cell_type": "markdown",
   "id": "f6005d2c-e84c-4346-9979-683fca9db8ce",
   "metadata": {},
   "source": [
    "Imports"
   ]
  },
  {
   "cell_type": "code",
   "execution_count": 165,
   "id": "9165ed2e-7f47-41c7-b794-d5b938394cb9",
   "metadata": {},
   "outputs": [],
   "source": [
    "import os\n",
    "import sys\n",
    "import string \n",
    "import numpy as np\n",
    "import pandas as pd\n",
    "import seaborn as sns\n",
    "import matplotlib.pyplot as plt\n",
    "import plotly.express as px\n",
    "import pgenlib as pgenlib\n",
    "import matplotlib.image as mpimg\n",
    "import plotly.subplots as sp\n",
    "import plotly.graph_objects as go\n",
    "import string"
   ]
  },
  {
   "cell_type": "markdown",
   "id": "91268180-59b5-4822-81d2-0c509d9e3dbe",
   "metadata": {},
   "source": [
    "# Functions"
   ]
  },
  {
   "cell_type": "code",
   "execution_count": 29,
   "id": "6ebef42f-bf63-4cf2-96ba-9840fb286e27",
   "metadata": {},
   "outputs": [],
   "source": [
    "def filter_ndd_snps(ndd_genes, specific_genes, df):\n",
    "    ndd_genes['chromosome'] = ndd_genes['chromosome'].str.replace('chr', '')\n",
    "    ndd_genes['start_pos'] = pd.to_numeric(ndd_genes['start_pos'])\n",
    "    ndd_genes['end_pos'] = pd.to_numeric(ndd_genes['end_pos'])\n",
    "\n",
    "    filtered_gene_df = ndd_genes[ndd_genes['gene'].isin(specific_genes)].groupby('gene').first().reset_index()\n",
    "    filtered_snps = pd.DataFrame(columns=df.columns)\n",
    "\n",
    "    for _, gene_row in filtered_gene_df.iterrows():\n",
    "        condition = (df['chromosome'] == gene_row['chromosome']) & \\\n",
    "                    (df['position'] >= gene_row['start_pos']) & \\\n",
    "                    (df['position'] <= gene_row['end_pos'])\n",
    "        filtered_snps = pd.concat([filtered_snps, df[condition].assign(gene=gene_row[\"gene\"])], ignore_index=True)\n",
    "\n",
    "    filtered_snps.reset_index(drop=True, inplace=True)\n",
    "    return filtered_snps\n",
    "\n",
    "def calculate_A1counts(row, gt_column):\n",
    "    # based on the following assumptions\n",
    "    # a1 is always minor allele because frq file maf is never above 0.5\n",
    "    # Ref from preds file always equals Ref from imputed files\n",
    "    \n",
    "    #if row[\"Ref\"] == row[\"a1\"]:\n",
    "    if row[\"ALLELE_A\"] == 0:\n",
    "        if row[gt_column] == \"AA\":\n",
    "            return 2.0\n",
    "        elif row[gt_column] == \"AB\":\n",
    "            return 1.0\n",
    "        elif row[gt_column] == \"BB\":\n",
    "            return 0.0\n",
    "    #elif row[\"Ref\"] == row[\"a2\"]:\n",
    "    elif row[\"ALLELE_A\"] == 1:\n",
    "        if row[gt_column] == \"AA\":\n",
    "            return 0.0\n",
    "        elif row[gt_column] == \"AB\":\n",
    "            return 1.0\n",
    "        elif row[gt_column] == \"BB\":\n",
    "            return 2.0\n",
    "    return None\n",
    "\n",
    "def list_files_with_extension(directory, startswith, extension):\n",
    "    files = os.listdir(directory)\n",
    "    filtered_files = [file for file in files if file.startswith(startswith) and file.endswith(extension)]\n",
    "    return filtered_files\n",
    "\n",
    "def get_dfs_from_raw(raw_files_list, source_dir, suffix):\n",
    "    dfs = pd.DataFrame()\n",
    "    for file in raw_files_list:\n",
    "        gt = pd.read_csv(f\"{source_dir}/{file}\", sep=\"\\t\")\n",
    "        chr_columns = [col for col in gt.columns if col.startswith('chr') and not col.endswith('HET')]\n",
    "        id_list = [\"FID\", \"IID\", \"PAT\", \"MAT\", \"SEX\", \"PHENOTYPE\"]\n",
    "        melted = pd.melt(gt, id_vars=id_list, value_vars=chr_columns)        \n",
    "        melted.rename(columns={\"variable\": f\"snpID{suffix}\", \"value\": f\"A1counts{suffix}\"}, inplace=True)\n",
    "        dfs = pd.concat([dfs, melted], axis=0, ignore_index=True)\n",
    "\n",
    "    return dfs\n",
    "\n",
    "def get_chrom_position_ref_alt(dfs, snpid_column, suffix):\n",
    "    dfs['chromosome'] = dfs[f'{snpid_column}'].str.split(':').str[0].str.replace('chr', '')\n",
    "    dfs['position'] = dfs[f'{snpid_column}'].str.split(':').str[1]\n",
    "    dfs[['chromosome', 'position']] = dfs[['chromosome', 'position']].astype('int64')\n",
    "    \n",
    "    dfs[f'Ref{suffix}'] = dfs[f'{snpid_column}'].str.split(':').str[2]\n",
    "    dfs[f'Alt{suffix}'] = dfs[f'{snpid_column}'].str.split(':').str[3].str.split('_').str[0]\n",
    "    return dfs\n",
    "\n",
    "def complement_base(base):\n",
    "    complement_dict = {'A': 'T', 'T': 'A', 'C': 'G', 'G': 'C'}\n",
    "    return complement_dict.get(base, base)\n",
    "\n",
    "def switch_A1(row, counts_column):\n",
    "    if row[counts_column] == 2.0:\n",
    "        return 0.0\n",
    "    elif row[counts_column] == 0.0:\n",
    "        return 2.0\n",
    "    else:\n",
    "        return 1.0\n",
    "\n",
    "def merge_samples(predictions, new_genotypes, counts_column, new_genotypes_suffix):\n",
    "    \"\"\"\n",
    "    From a dataframe containing GT_predicted and a dataframe containing GTs from another genotyping method (imputed or WGS),\n",
    "    return a merged dataframe that considers switched reference and alternate alleles and ref and alt complements \n",
    "    Parameters:\n",
    "    predictions - dataframe containing predicted genotypes, usually output of predictions.py\n",
    "    new_genotypes - dataframe containing imputed or WGS genotypes\n",
    "    new_genotypes_suffix - usually \"_imputed\" or \"_wgs\", use same suffix as suffix parameter in get_dfs_from_raw()\n",
    "    Returns:\n",
    "    pandas dataframe with inner merge of predicted and new genotypes\n",
    "    \"\"\"\n",
    "    first = predictions.merge(new_genotypes, on=[\"Sample_ID\", \"chromosome\", \"position\"], how=\"left\")\n",
    "\n",
    "    # Matched refs and alts\n",
    "    matched_refs = first.loc[(first[\"Ref\"] == first[f\"Ref{new_genotypes_suffix}\"]) & (first[\"Alt\"] == first[f\"Alt{new_genotypes_suffix}\"])].copy()\n",
    "    matched_refs[\"merge_id\"] = 1\n",
    "    \n",
    "    # Different refs and alts\n",
    "    different_refs = first.loc[(first[\"Ref\"] != first[f\"Ref{new_genotypes_suffix}\"]) | (first[\"Alt\"] != first[f\"Alt{new_genotypes_suffix}\"])].copy()\n",
    "    \n",
    "    # Match Ref to Alt_imputed and Alt to Ref_imputed, then switch A1counts_imputed\n",
    "    matched_ref_to_alt = different_refs.loc[(different_refs[\"Ref\"] == different_refs[f\"Alt{new_genotypes_suffix}\"]) & (different_refs[\"Alt\"] == different_refs[f\"Ref{new_genotypes_suffix}\"])].copy()\n",
    "    matched_ref_to_alt[f\"A1counts{new_genotypes_suffix}\"] = matched_ref_to_alt.apply(switch_A1, counts_column=counts_column, axis=1)\n",
    "    matched_ref_to_alt[\"merge_id\"] = 2\n",
    "    \n",
    "    # Take care of complement strand possibilities\n",
    "    different_refs[f\"Ref{new_genotypes_suffix}_complement\"] = different_refs[f\"Ref{new_genotypes_suffix}\"].apply(complement_base)\n",
    "    different_refs[f\"Alt{new_genotypes_suffix}_complement\"] = different_refs[f\"Alt{new_genotypes_suffix}\"].apply(complement_base)\n",
    "    \n",
    "    matched_refs_complement = different_refs.loc[(different_refs[\"Ref\"] == different_refs[f\"Ref{new_genotypes_suffix}_complement\"]) & (different_refs[\"Alt\"] == different_refs[f\"Alt{new_genotypes_suffix}_complement\"])].copy()\n",
    "    matched_refs_complement[\"merge_id\"] = 3\n",
    "    \n",
    "    matched_ref_to_alt_complement = different_refs.loc[(different_refs[\"Ref\"] == different_refs[f\"Alt{new_genotypes_suffix}_complement\"]) & (different_refs[\"Alt\"] == different_refs[f\"Ref{new_genotypes_suffix}_complement\"])].copy()\n",
    "    matched_ref_to_alt_complement[f\"A1counts{new_genotypes_suffix}\"] = matched_ref_to_alt_complement.apply(switch_A1, counts_column=counts_column, axis=1)\n",
    "    matched_ref_to_alt_complement[\"merge_id\"] = 4\n",
    "    \n",
    "    compare = pd.concat([matched_refs, matched_ref_to_alt, matched_refs_complement, matched_ref_to_alt_complement], axis=0)\n",
    "    \n",
    "    compare.drop_duplicates(subset=[\"Sample_ID\", \"snpID\", \"chromosome\", \"position\"], inplace=True)\n",
    "    return compare\n",
    "\n",
    "def replace_colons(snp_id):\n",
    "    parts = snp_id.rsplit('_', 1)  # Split into two parts from the right\n",
    "    parts[0] = parts[0].replace('_', ':')  # Replace ':' with '_' in the first part\n",
    "    return '_'.join(parts)\n",
    "\n",
    "def determine_concordant_summary(row):\n",
    "    if row['concordant_wgs'] == True:\n",
    "        return True\n",
    "    if row['concordant_wgs'] == False:\n",
    "        return False\n",
    "    if pd.isnull(row[\"concordant_wgs\"]) and row[\"concordant_imputed\"] == True:\n",
    "        return True\n",
    "    if pd.isnull(row[\"concordant_wgs\"]) and row[\"concordant_imputed\"] == False:\n",
    "        return False\n",
    "    if pd.isnull(row[\"concordant_wgs\"]) and pd.isnull(row[\"concordant_imputed\"]):\n",
    "        return np.NaN\n",
    "\n",
    "def calculate_GT(row, counts_column):\n",
    "    # Reverse the calculation based on A1counts_predicted\n",
    "    if row[\"ALLELE_A\"] == 0:\n",
    "        if row[counts_column] == 2.0:\n",
    "            return \"AA\"\n",
    "        elif row[counts_column] == 1.0:\n",
    "            return \"AB\"\n",
    "        elif row[counts_column] == 0.0:\n",
    "            return \"BB\"\n",
    "    elif row[\"ALLELE_A\"] == 1:\n",
    "        if row[counts_column] == 0.0:\n",
    "            return \"AA\"\n",
    "        elif row[counts_column] == 1.0:\n",
    "            return \"AB\"\n",
    "        elif row[counts_column] == 2.0:\n",
    "            return \"BB\"\n",
    "    return None\n",
    "\n",
    "def convert_GT_to_cat(data, gt_col_name, new_col_name):\n",
    "    # apply gt_cat() mapping function to add new column with 0/1/2/NaN instead of AA/AB/BB/NC\n",
    "    # data[f\"{gt_col_name}_{new_col_suffix}\"] = data.apply(lambda row: gt_cat(row, gt_col_name), axis=1)\n",
    "    data[f\"{new_col_name}\"] = data[f\"{gt_col_name}\"].map({\"AA\":0, \"AB\":1, \"BA\":1, \"BB\":2, \"NC\":np.NaN})\n",
    "    return data"
   ]
  },
  {
   "cell_type": "markdown",
   "id": "4305d687-1dc9-48af-b3af-ef42ccba6305",
   "metadata": {},
   "source": [
    "# Combine Cluster Buster Predicted Genotypes with Imputed and WGS Genotypes"
   ]
  },
  {
   "cell_type": "markdown",
   "id": "a5584e9c-b76d-4759-b45a-6330254c2a55",
   "metadata": {},
   "source": [
    "## Extract list of SNPs within APOE, GBA, SNCA, LRRK2 regions."
   ]
  },
  {
   "cell_type": "markdown",
   "id": "e77967fe-bf5e-4a5b-b396-18df7051e19c",
   "metadata": {},
   "source": [
    "ndd_file contains list of neurodegenerative disease related genes along with their chromosome and position."
   ]
  },
  {
   "cell_type": "code",
   "execution_count": null,
   "id": "046a5576-94e7-47c1-a2e7-6afca6408d05",
   "metadata": {},
   "outputs": [],
   "source": [
    "ndd_file = \"data/ndd_genes_pos_uniq.txt\"\n",
    "cols = [\"gene\", \"chromosome\", \"start_pos\", \"end_pos\"]\n",
    "ndd_genes = pd.read_csv(ndd_file, sep=\",\", names=cols)"
   ]
  },
  {
   "cell_type": "code",
   "execution_count": null,
   "id": "9d2f8189-f980-4fd8-a023-819a5da9fa37",
   "metadata": {},
   "outputs": [],
   "source": [
    "specific_genes = ['SNCA', 'APOE', 'GBA', 'LRRK2']\n",
    "                    \n",
    "example = \"/data/GP2/raw_genotypes/snp_metrics/204842400049/snp_metrics_204842400049/Sample_ID=204842400049_R01C01\"\n",
    "snps = pd.read_parquet(example)\n",
    "snps = snps[[\"snpID\",\"Ref\",\"Alt\",\"chromosome\",\"position\"]]"
   ]
  },
  {
   "cell_type": "markdown",
   "id": "bcbf1528-fcd8-4e0a-8671-17e620a01732",
   "metadata": {},
   "source": [
    "Get snpIDs within specific genes by filtering a on chromosome and position."
   ]
  },
  {
   "cell_type": "code",
   "execution_count": null,
   "id": "cc165d62-c92f-4c3d-b3e4-5b771b0f73e0",
   "metadata": {},
   "outputs": [],
   "source": [
    "filtered_snps = filter_ndd_snps(ndd_genes, specific_genes, snps)"
   ]
  },
  {
   "cell_type": "markdown",
   "id": "1543769e-0b99-4c02-a98c-5d152fed4aa3",
   "metadata": {},
   "source": [
    "Save list of SNPs to extract to a txt file"
   ]
  },
  {
   "cell_type": "code",
   "execution_count": null,
   "id": "97c866ba-ea0d-4095-8f35-71b814070d3c",
   "metadata": {},
   "outputs": [],
   "source": [
    "filtered_snps[\"snpID\"].to_csv('data/fresh_run/extract_snpids.txt', index=False, header=False)"
   ]
  },
  {
   "cell_type": "markdown",
   "id": "90296719-11ef-4520-843d-dbb3e7ab898c",
   "metadata": {},
   "source": [
    "## Get Predictions on Release 7"
   ]
  },
  {
   "cell_type": "markdown",
   "id": "e58cae3d-289d-46d3-a722-ec4f578c21e5",
   "metadata": {},
   "source": [
    "Aggregate SNPs within Specific Gene Loci"
   ]
  },
  {
   "cell_type": "code",
   "execution_count": null,
   "id": "faeb0542-65d7-4e02-ade6-20a4f2818264",
   "metadata": {},
   "outputs": [],
   "source": [
    "data_dir = \"/data/GP2/raw_genotypes/snp_metrics\"\n",
    "snpids = \"/data/CARD_AA/projects/2023_05_JM_gt_clusters/capstone/data/extract_snpids.txt\"\n",
    "output_dir = \"/data/CARD_AA/projects/2023_05_JM_gt_clusters/capstone/data/release7_sampleids\"\n",
    "\n",
    "with open(f'release7_sampleids/agg_snps.swarm', 'w') as f:\n",
    "    for item in os.listdir('release7_sampleids'):\n",
    "        if item.startswith('release7'):\n",
    "            sample = f\"{output_dir}/{item}\"\n",
    "            output_suffix = item.split('_')[2]\n",
    "            output_file = f\"{output_dir}/agg_snps_{output_suffix}.csv\"\n",
    "            cmd = f\"\\\n",
    "python /data/CARD_AA/projects/2023_05_JM_gt_clusters/capstone/src/aggregate_snps.py \\\n",
    "--ids {snpids} \\\n",
    "--samples {sample} \\\n",
    "--directory {data_dir} \\\n",
    "--output {output_file}\"\n",
    "            f.write(f'{cmd}\\n')\n",
    "f.close()"
   ]
  },
  {
   "cell_type": "markdown",
   "id": "767f7007-cf2d-42d2-a0a8-27f9970f5070",
   "metadata": {},
   "source": [
    "Run code to aggregate SNPs"
   ]
  },
  {
   "cell_type": "code",
   "execution_count": null,
   "id": "9e687d99-1c9b-4866-9ba9-911d1f16b0f7",
   "metadata": {},
   "outputs": [],
   "source": [
    "! swarm -g 5 -t 8 --time=03:00:00 release7_sampleids/agg_snps.swarm"
   ]
  },
  {
   "cell_type": "markdown",
   "id": "0dfd864e-24cd-49ba-9ef9-fa238e3827b0",
   "metadata": {},
   "source": [
    "Render predictions"
   ]
  },
  {
   "cell_type": "code",
   "execution_count": null,
   "id": "11784e87-7f20-4e92-8887-cc25762a9bfb",
   "metadata": {},
   "outputs": [],
   "source": [
    "! bash src/predictions.sh model/gt_model.keras data/snpid_map.txt data/release7_snps.csv data/release7_predictions.csv"
   ]
  },
  {
   "cell_type": "markdown",
   "id": "d78da55b-e96a-476b-96bc-0fca0d92539c",
   "metadata": {},
   "source": [
    "Load predictions."
   ]
  },
  {
   "cell_type": "code",
   "execution_count": 13,
   "id": "d5437d5e-81b1-46dc-a916-e013b8ea30f5",
   "metadata": {},
   "outputs": [],
   "source": [
    "fpath = \"data/release7_predictions.csv\"\n",
    "predictions = pd.read_csv(fpath, sep=\",\")"
   ]
  },
  {
   "cell_type": "markdown",
   "id": "d403a6f3-3adc-426c-8240-7eb3fe95b72b",
   "metadata": {},
   "source": [
    "Calculate counts of a1 allele (A1counts_predicted) from GT_predicted."
   ]
  },
  {
   "cell_type": "code",
   "execution_count": 14,
   "id": "93e979df-a388-4da5-ba3e-f3f092c2262b",
   "metadata": {},
   "outputs": [],
   "source": [
    "predictions[\"A1counts_predicted\"] = predictions.apply(calculate_A1counts_predicted, gt_column=\"GT_predicted\", axis=1)"
   ]
  },
  {
   "cell_type": "markdown",
   "id": "9c6c1350-49b6-4166-987d-770f0e612099",
   "metadata": {},
   "source": [
    "## Process Imputed Genotypes"
   ]
  },
  {
   "cell_type": "markdown",
   "id": "6f7bcecf-33b0-4306-ae21-38225b4f3be9",
   "metadata": {},
   "source": [
    "### Establish samples of interest"
   ]
  },
  {
   "cell_type": "markdown",
   "id": "369eface-da82-4980-a9b0-1d6b91cd8964",
   "metadata": {},
   "source": [
    "Merge relevant information from master keys for release 7 information."
   ]
  },
  {
   "cell_type": "code",
   "execution_count": null,
   "id": "673acb2d-8f92-4cc8-978e-01f23f972cd0",
   "metadata": {},
   "outputs": [],
   "source": [
    "key_file = f'/data/GP2/clinical/master_key/release_keys/master_key_release7_final.csv'\n",
    "master_key = f\"/data/GP2/clinical/master_key/GP2_master_key_JUNE_2024.txt\"\n",
    "key = pd.read_csv(f'{key_file}', sep=\",\")\n",
    "master = pd.read_csv(f'{master_key}', sep=\"\\t\")\n",
    "\n",
    "master = master[[\"GP2sampleID\", \"SentrixBarcode_A\", \"SentrixPosition_A\"]].astype(str)\n",
    "key = key.merge(master, left_on=\"GP2sampleID\", right_on=\"GP2sampleID\", how=\"left\")"
   ]
  },
  {
   "cell_type": "code",
   "execution_count": null,
   "id": "d478ed3c-7dee-407d-bf97-b63cd5cf9dd9",
   "metadata": {},
   "outputs": [],
   "source": [
    "key['filename'] = key['SentrixBarcode_A'].astype(str) + '_' + key['SentrixPosition_A'].astype(str)"
   ]
  },
  {
   "cell_type": "markdown",
   "id": "e8adacfb-d79a-4d4c-9245-30560f7908e9",
   "metadata": {},
   "source": [
    "Save samples of interest to text file."
   ]
  },
  {
   "cell_type": "code",
   "execution_count": null,
   "id": "d6fa4d69-7b23-4075-bbae-87a8a5268b6d",
   "metadata": {},
   "outputs": [],
   "source": [
    "key['filename'] = key['SentrixBarcode_A'].astype(str) + '_' + key['SentrixPosition_A'].astype(str)\n",
    "sampleids_list = key['filename'].tolist()\n",
    "with open('data/release7_sampleids.txt', 'w') as file:\n",
    "    for sampleid in sampleids_list:\n",
    "        file.write(sampleid + '\\n')\n",
    "file.close()"
   ]
  },
  {
   "cell_type": "markdown",
   "id": "2a622110-579d-4111-8ac6-958d40d2cdf7",
   "metadata": {},
   "source": [
    "### Extract Imputation with PLINK"
   ]
  },
  {
   "cell_type": "code",
   "execution_count": null,
   "id": "ed3dedee-06f6-468e-815e-965dde5a1908",
   "metadata": {},
   "outputs": [],
   "source": [
    "! bash extract_imputed_gts.sh"
   ]
  },
  {
   "cell_type": "markdown",
   "id": "0ff4d529-229e-4312-bfd5-91c65b05ec71",
   "metadata": {},
   "source": [
    "### Transform Imputed Genotypes into Long Form"
   ]
  },
  {
   "cell_type": "markdown",
   "id": "ac5bac5d-d6be-43ac-a188-78c1a241f1f4",
   "metadata": {},
   "source": [
    "Transforms wide form imputed data into long form for ease in merging with predicted data later.\n",
    "\n",
    "This is often a very computationally expensive process and must be run one gene at a time for memory/RAM preservation.\n",
    "\n",
    "Set the gene variable equal to one of the genes in gene_regions list to process imputed data for one gene."
   ]
  },
  {
   "cell_type": "code",
   "execution_count": 26,
   "id": "adf20fe0-0cb1-4361-97ef-f3b939dc7601",
   "metadata": {},
   "outputs": [],
   "source": [
    "gene_regions = [\"GBA\", \"SNCA\", \"LRRK2\", \"APOE\"]\n",
    "gene_dict = {\"GBA\":1, \"SNCA\":4, \"LRRK2\":12, \"APOE\":19}\n",
    "\n",
    "gene = \"APOE\""
   ]
  },
  {
   "cell_type": "code",
   "execution_count": 27,
   "id": "5b86b8f8-78c4-4f3c-98b9-86f7597edcad",
   "metadata": {},
   "outputs": [],
   "source": [
    "directory = 'data/new_new_imputed_genotypes'\n",
    "chrom = f\"chr{gene_dict[gene]}_\"\n",
    "extension = \".raw\"\n",
    "raw_files_imputed = list_files_with_extension(directory, chrom, extension)"
   ]
  },
  {
   "cell_type": "markdown",
   "id": "bc4e0790-f1f9-4d9f-8dfc-7eec1f43d8a1",
   "metadata": {},
   "source": [
    "Get imputed data from each raw file into one dataframe (dfs_imputed)"
   ]
  },
  {
   "cell_type": "code",
   "execution_count": 28,
   "id": "56ccacef-aeab-4e91-a884-c178fa85ede7",
   "metadata": {},
   "outputs": [],
   "source": [
    "dfs_imputed = get_dfs_from_raw(raw_files_imputed, \"data/new_new_imputed_genotypes\", \"_imputed\")"
   ]
  },
  {
   "cell_type": "code",
   "execution_count": 29,
   "id": "7c686ce1-5f36-476e-8409-cff5d498f569",
   "metadata": {},
   "outputs": [],
   "source": [
    "dfs_imputed = get_chrom_position_ref_alt(dfs_imputed, \"snpID_imputed\", \"_imputed\")"
   ]
  },
  {
   "cell_type": "code",
   "execution_count": 30,
   "id": "cc0b0cc6-a393-4a7c-8b3e-be77a50d6069",
   "metadata": {},
   "outputs": [],
   "source": [
    "dfs_imputed['chromosome'] = dfs_imputed['snpID_imputed'].str.split(':').str[0].str.replace('chr', '')\n",
    "dfs_imputed['position'] = dfs_imputed['snpID_imputed'].str.split(':').str[1]\n",
    "dfs_imputed[['chromosome', 'position']] = dfs_imputed[['chromosome', 'position']].astype('int64')\n",
    "\n",
    "dfs_imputed['Ref_imputed'] = dfs_imputed['snpID_imputed'].str.split(':').str[2]\n",
    "dfs_imputed['Alt_imputed'] = dfs_imputed['snpID_imputed'].str.split(':').str[3].str.split('_').str[0]"
   ]
  },
  {
   "cell_type": "markdown",
   "id": "a598eabe-29d7-4dbb-8f6f-5cd981f86297",
   "metadata": {},
   "source": [
    "Add GP2 IIDs to dfs for merging with predicted data later."
   ]
  },
  {
   "cell_type": "code",
   "execution_count": 31,
   "id": "09306173-b5de-48a0-846f-1e4e13313e2e",
   "metadata": {},
   "outputs": [
    {
     "name": "stderr",
     "output_type": "stream",
     "text": [
      "/tmp/ipykernel_1423337/3785646006.py:2: DtypeWarning: Columns (23,24,25,28,29) have mixed types. Specify dtype option on import or set low_memory=False.\n",
      "  master_key = pd.read_csv(fpath, sep=\"\\t\")\n"
     ]
    }
   ],
   "source": [
    "fpath = \"/data/GP2/clinical/master_key/GP2_master_key_JUNE_2024.txt\"\n",
    "master_key = pd.read_csv(fpath, sep=\"\\t\")\n",
    "master_key.rename(columns={\"IID\":\"Sample_ID\"}, inplace=True)\n",
    "ids = master_key[[\"GP2sampleID\", \"Sample_ID\"]]\n",
    "dfs_imputed = dfs_imputed.merge(ids, left_on=\"IID\", right_on=\"GP2sampleID\", how=\"left\")"
   ]
  },
  {
   "cell_type": "markdown",
   "id": "fe1699ff-f45f-44d4-90d5-70b73648f594",
   "metadata": {},
   "source": [
    "Round A1counts_imputed column for comparing with other genotypes."
   ]
  },
  {
   "cell_type": "code",
   "execution_count": 32,
   "id": "602984e9-5f49-42b4-80a0-aafc86a6bfcd",
   "metadata": {},
   "outputs": [],
   "source": [
    "dfs_imputed[\"A1counts_imputed_rounded\"] = dfs_imputed[\"A1counts_imputed\"].round()"
   ]
  },
  {
   "cell_type": "markdown",
   "id": "c1a11315-9cff-46ab-b905-cc05d56e71b2",
   "metadata": {},
   "source": [
    "### Merge Imputed Genotypes with Predicted Genotypes"
   ]
  },
  {
   "cell_type": "markdown",
   "id": "40d5321c-7dad-4da5-abd5-0b0ae6b0d81a",
   "metadata": {},
   "source": [
    "Merge data based on matching Sample_IDs, chromosome, position, reference allele, and alternate allele. Multiple merges are required (flipping reference and alternate, considering complement alleles) in order to ensure all possible matches have been made. Sometimes the panels measure different alleles and different strands."
   ]
  },
  {
   "cell_type": "code",
   "execution_count": 33,
   "id": "6c81187f-8088-4bee-802d-6ac8d0ae03eb",
   "metadata": {},
   "outputs": [],
   "source": [
    "compare_imputed = merge_samples(predictions, dfs_imputed, \"A1counts_imputed\", \"_imputed\")"
   ]
  },
  {
   "cell_type": "code",
   "execution_count": 34,
   "id": "496689d8-1fc9-486a-9da4-7c0bc6ae8cab",
   "metadata": {},
   "outputs": [],
   "source": [
    "compare_imputed.to_csv(f\"data/fresh_run/{gene}_predicted_vs_imputed_uncleaned.csv\", index=False)"
   ]
  },
  {
   "cell_type": "markdown",
   "id": "dc288708-eb2c-4352-a58d-5234b72ae62d",
   "metadata": {},
   "source": [
    "Clean out SNPs with poor raw data."
   ]
  },
  {
   "cell_type": "code",
   "execution_count": 35,
   "id": "e8d2f010-0d53-4e97-82c4-a020b7e5bee8",
   "metadata": {},
   "outputs": [],
   "source": [
    "compare_imputed = compare_imputed.dropna(subset=[\"R\", \"Theta\"], axis=0)\n",
    "compare_imputed = compare_imputed.loc[compare_imputed[\"R\"] > 0.15].copy()"
   ]
  },
  {
   "cell_type": "markdown",
   "id": "14af12ad-b2ce-42d4-8775-6ff51f06778f",
   "metadata": {},
   "source": [
    "Save merged predictions and imputations for the gene."
   ]
  },
  {
   "cell_type": "code",
   "execution_count": 36,
   "id": "09e17fc2-dd41-4349-9ffb-a6216c5c0325",
   "metadata": {},
   "outputs": [],
   "source": [
    "compare_imputed.to_csv(f\"data/fresh_run/{gene}_predicted_vs_imputed.csv\", index=False)"
   ]
  },
  {
   "cell_type": "markdown",
   "id": "adc47b5d-428b-4f27-86c4-9243c9ab4ca9",
   "metadata": {},
   "source": [
    "### Concatenate predicted_vs_imputed files for each gene and save to csv"
   ]
  },
  {
   "cell_type": "code",
   "execution_count": 42,
   "id": "0daa8fca-cbc4-4c99-a13d-b55b34354ac0",
   "metadata": {},
   "outputs": [],
   "source": [
    "imputed = pd.DataFrame()\n",
    "for gene in gene_regions:\n",
    "    gene_df = pd.read_csv(f\"data/fresh_run/{gene}_predicted_vs_imputed.csv\", sep=\",\")\n",
    "    imputed = pd.concat([imputed, gene_df], axis=0, ignore_index=True)\n",
    "\n",
    "imputed.to_csv(\"data/fresh_run/release7_predicted_vs_imputed.csv\", index=False)"
   ]
  },
  {
   "cell_type": "markdown",
   "id": "408a42f8-6d8d-4e60-b445-9da74796c3cf",
   "metadata": {},
   "source": [
    "## Process WGS Genotypes"
   ]
  },
  {
   "cell_type": "markdown",
   "id": "3060ad6c-677f-4e64-bc28-4e0c0ab94dd8",
   "metadata": {},
   "source": [
    "### Extract WGS data with PLINK"
   ]
  },
  {
   "cell_type": "code",
   "execution_count": null,
   "id": "3d8fa0d3-c320-4214-bf89-e7c0cd9f8fa3",
   "metadata": {},
   "outputs": [],
   "source": [
    "wgs_dir = \"/data/CARD_AA/projects/2023_05_JM_gt_clusters/wgs_snps\"\n",
    "names = [\"wgs_apoe_snps\", \"wgs_gba_snps\", \"wgs_snca_snps\", \"wgs_lrrk2_snps\"]\n",
    "for name in names:\n",
    "    ! echo {name}\n",
    "    ! plink2 --pfile {wgs_dir}/{name} --recode AD --out data/wgs/{name}"
   ]
  },
  {
   "cell_type": "markdown",
   "id": "12026f76-9242-4d70-bd58-35d8b3f1a997",
   "metadata": {},
   "source": [
    "### Transform Imputed Genotypes into Long Form"
   ]
  },
  {
   "cell_type": "code",
   "execution_count": 6,
   "id": "7c2c2bc4-8470-49a7-8057-f74d5dc52a82",
   "metadata": {},
   "outputs": [],
   "source": [
    "directory = '/data/CARD_AA/projects/2023_05_JM_gt_clusters/capstone/data/wgs'\n",
    "extension = \".raw\"\n",
    "startswith = \"wgs\"\n",
    "raw_files_wgs = list_files_with_extension(directory, startswith, extension)\n",
    "\n",
    "dfs_wgs = get_dfs_from_raw(raw_files_wgs, \"data/wgs\", \"_wgs\")"
   ]
  },
  {
   "cell_type": "markdown",
   "id": "385f5974-ca8c-41cb-9452-74f75b86bd86",
   "metadata": {},
   "source": [
    "Harmonize snpIDs to match imputed snpID format (chrN:pos:Ref:Alt_Ref) "
   ]
  },
  {
   "cell_type": "code",
   "execution_count": 9,
   "id": "106588bb-d2a1-4cca-96bd-7d9c10cc3680",
   "metadata": {},
   "outputs": [],
   "source": [
    "dfs_wgs['snpID_wgs'] = dfs_wgs['snpID_wgs'].apply(replace_colons)"
   ]
  },
  {
   "cell_type": "markdown",
   "id": "7d93dfcb-539c-4e2d-a7e6-125f7073cb94",
   "metadata": {},
   "source": [
    "Get sample information into dataframe"
   ]
  },
  {
   "cell_type": "code",
   "execution_count": 10,
   "id": "d1508cbd-5d37-4b2f-a53d-4c59ecff2fed",
   "metadata": {},
   "outputs": [
    {
     "name": "stderr",
     "output_type": "stream",
     "text": [
      "/tmp/ipykernel_2625756/3298413311.py:1: DtypeWarning: Columns (23,24,25,27,28,29) have mixed types. Specify dtype option on import or set low_memory=False.\n",
      "  release = pd.read_csv(\"/data/GP2/clinical/master_key/GP2_master_key_JULY_2024.txt\", sep='\\t')\n"
     ]
    }
   ],
   "source": [
    "release = pd.read_csv(\"/data/GP2/clinical/master_key/GP2_master_key_JULY_2024.txt\", sep='\\t')\n",
    "release.rename(columns={\"IID\":\"Sample_ID\"}, inplace=True)\n",
    "ids = release[[\"GP2sampleID\", \"Sample_ID\"]]\n",
    "dfs_wgs = dfs_wgs.merge(ids, left_on=\"IID\", right_on=\"GP2sampleID\", how=\"left\")"
   ]
  },
  {
   "cell_type": "markdown",
   "id": "2ccf5f6c-6995-4eb5-8f6e-32fa74dca04b",
   "metadata": {},
   "source": [
    "Transform data to extract chromosome, position, reference, alternate allele."
   ]
  },
  {
   "cell_type": "markdown",
   "id": "d971c164-2bf7-4521-a62d-2b3fc9b611f8",
   "metadata": {},
   "source": [
    "### Merge WGS Genotypes with Predicted Genotypes"
   ]
  },
  {
   "cell_type": "code",
   "execution_count": 21,
   "id": "8b35bb7c-9922-45f4-ab48-7fbb3e224aee",
   "metadata": {},
   "outputs": [],
   "source": [
    "compare_wgs = merge_samples(predictions, dfs_wgs, \"A1counts_wgs\", \"_wgs\")"
   ]
  },
  {
   "cell_type": "code",
   "execution_count": 22,
   "id": "e12950e1-3dd5-49c9-9198-b55461d26e4f",
   "metadata": {},
   "outputs": [],
   "source": [
    "compare_wgs.to_csv(\"data/fresh_run/release7_predicted_vs_wgs.csv\", index=False)"
   ]
  },
  {
   "cell_type": "markdown",
   "id": "65a8089e-8b27-4ca2-b6f9-44a82937dc46",
   "metadata": {},
   "source": [
    "## Merge of Predicted, Imputed, and WGS Genotypes"
   ]
  },
  {
   "cell_type": "markdown",
   "id": "fbd4677f-82a4-4d37-8d4e-c7de11d29bb6",
   "metadata": {},
   "source": [
    "Load imputed and WGS dataframe if necessary."
   ]
  },
  {
   "cell_type": "code",
   "execution_count": 26,
   "id": "92faf5eb-8d9e-4bfb-91df-c8e84b19b463",
   "metadata": {},
   "outputs": [],
   "source": [
    "compare_imputed = pd.read_csv(\"data/fresh_run/release7_predicted_vs_imputed.csv\", sep=\",\")\n",
    "compare_wgs = pd.read_csv(\"data/fresh_run/release7_predicted_vs_wgs.csv\", sep=\",\")"
   ]
  },
  {
   "cell_type": "markdown",
   "id": "36d1a6ac-9152-4385-80d4-5a6921c9b429",
   "metadata": {},
   "source": [
    "From A1counts, make GT (GT_wgs, GT_imputed) column and categorical GT column (GT_wgs_cat, GT_imputed_cat)"
   ]
  },
  {
   "cell_type": "code",
   "execution_count": 30,
   "id": "43f7a4a0-de90-410c-8949-c0a984994a19",
   "metadata": {},
   "outputs": [],
   "source": [
    "compare_imputed[\"GT_imputed\"] = compare_imputed.apply(calculate_GT, counts_column=\"A1counts_imputed\", axis=1)\n",
    "compare_wgs[\"GT_wgs\"] = compare_wgs.apply(calculate_GT, counts_column=\"A1counts_wgs\", axis=1)"
   ]
  },
  {
   "cell_type": "code",
   "execution_count": 33,
   "id": "4169de44-f7a5-440a-9555-c6db88f973dd",
   "metadata": {},
   "outputs": [],
   "source": [
    "compare_imputed = convert_GT_to_cat(compare_imputed, gt_col_name=\"GT_imputed\", new_col_name=\"GT_imputed_cat\")\n",
    "compare_wgs = convert_GT_to_cat(compare_wgs, gt_col_name=\"GT_wgs\", new_col_name=\"GT_wgs_cat\")"
   ]
  },
  {
   "cell_type": "markdown",
   "id": "7e39b02c-d2ea-4679-bd40-07306ac73b93",
   "metadata": {},
   "source": [
    "Reduce the dataframe holding WGS information (compare_wgs) and the dataframe holding imputed information (compare_imputed) to most important columns."
   ]
  },
  {
   "cell_type": "code",
   "execution_count": 36,
   "id": "d4e64802-8fa9-45f7-a63b-68f67e29e760",
   "metadata": {},
   "outputs": [],
   "source": [
    "wgs_important_columns = ['snpID', 'Sample_ID', 'snpID_wgs', 'A1counts_wgs', 'GT_wgs', 'GT_wgs_cat']\n",
    "wgs_important = compare_wgs[wgs_important_columns]\n",
    "\n",
    "imputed_important_columns = ['snpID', 'Sample_ID', 'snpID_imputed', 'A1counts_imputed', 'A1counts_imputed_rounded', 'GT_imputed', 'GT_imputed_cat']\n",
    "imputed_important = compare_imputed[imputed_important_columns]"
   ]
  },
  {
   "cell_type": "markdown",
   "id": "3131f3db-3bdb-4b9d-a6b4-7f12daff8505",
   "metadata": {},
   "source": [
    "Perform two left merges to get a dataframe (compare_gts) that contains all samples that have either imputed genotypes, WGS genotypes, or both."
   ]
  },
  {
   "cell_type": "code",
   "execution_count": 55,
   "id": "873b856f-45b3-48ec-95e5-56665aad8b40",
   "metadata": {},
   "outputs": [],
   "source": [
    "# left merge\n",
    "preds_intermed = predictions.merge(wgs_important, on=[\"snpID\", \"Sample_ID\"], how=\"left\")\n",
    "df = preds_intermed.merge(imputed_important, on=[\"snpID\", \"Sample_ID\"], how=\"left\")"
   ]
  },
  {
   "cell_type": "markdown",
   "id": "4ff7071f-d243-4926-82ef-22f8d4d8ec30",
   "metadata": {},
   "source": [
    "Drop rows with no imputation or WGS."
   ]
  },
  {
   "cell_type": "code",
   "execution_count": 56,
   "id": "9125a61b-3747-48e3-87b9-d725c87d7fc8",
   "metadata": {},
   "outputs": [],
   "source": [
    "df = df.dropna(subset=[\"A1counts_wgs\", \"A1counts_imputed\"], how='all')"
   ]
  },
  {
   "cell_type": "markdown",
   "id": "52ddd5e3-6df9-4fc6-9b80-66880aa2a93b",
   "metadata": {},
   "source": [
    "Add a gene column."
   ]
  },
  {
   "cell_type": "code",
   "execution_count": 83,
   "id": "8b622ccf-d153-42bc-b239-b309a0a4b228",
   "metadata": {},
   "outputs": [],
   "source": [
    "gene_map = {1: \"GBA\", 4:\"SNCA\", 12:\"LRRK2\", 19:\"APOE\"}\n",
    "df[\"gene\"] = df[\"chromosome\"].map(gene_map)"
   ]
  },
  {
   "cell_type": "markdown",
   "id": "d6bd3c5d-6e6e-4391-893d-4861fd492455",
   "metadata": {},
   "source": [
    "### Create Overall Concordance Metric"
   ]
  },
  {
   "cell_type": "markdown",
   "id": "632d66ff-1a79-4046-9b03-764824e2da8c",
   "metadata": {},
   "source": [
    "Create True/False columns that indicate if the predicted GT is in agreement (concordant) with the imputed GT and the WGS GT. For SNPs with a NaN, change False to NaN."
   ]
  },
  {
   "cell_type": "code",
   "execution_count": 59,
   "id": "94683a64-4b8f-4ca2-8800-1c99aecba53f",
   "metadata": {},
   "outputs": [],
   "source": [
    "df['concordant_wgs'] = df[\"A1counts_predicted\"] == df[\"A1counts_wgs\"]\n",
    "df['concordant_imputed'] = df[\"A1counts_predicted\"] == df[\"A1counts_imputed_rounded\"]\n",
    "\n",
    "df['concordant_wgs'] = df['concordant_wgs'].mask(df[\"A1counts_wgs\"].isna(), np.nan)\n",
    "df['concordant_imputed'] = df['concordant_imputed'].mask(df[\"A1counts_imputed\"].isna(), np.nan)"
   ]
  },
  {
   "cell_type": "markdown",
   "id": "6dfe3064-c3e9-4a0c-b77e-094ad9a5dd0a",
   "metadata": {},
   "source": [
    "Create a True/False column concordance_summary that prioritizes concordance with WGS GTs over imputed GTs."
   ]
  },
  {
   "cell_type": "code",
   "execution_count": 60,
   "id": "92c86dc2-5edb-4f81-a529-a64a789fc5b5",
   "metadata": {},
   "outputs": [],
   "source": [
    "df['concordant_summary'] = df.apply(determine_concordant_summary, axis=1)"
   ]
  },
  {
   "cell_type": "markdown",
   "id": "0b5ec04f-0b85-4e81-9aee-e06d8464d928",
   "metadata": {},
   "source": [
    "Save to CSV"
   ]
  },
  {
   "cell_type": "code",
   "execution_count": 84,
   "id": "0bdeac84-1620-4ae3-9982-af804fad838b",
   "metadata": {},
   "outputs": [],
   "source": [
    "df.to_csv(\"data/fresh_run/release7_predictions_imputations_wgs.csv\", index=False)"
   ]
  },
  {
   "cell_type": "markdown",
   "id": "e4644918-a9d6-4326-816e-fb81d78c63df",
   "metadata": {},
   "source": [
    "Separate out previous no-calls and save to CSV."
   ]
  },
  {
   "cell_type": "code",
   "execution_count": 127,
   "id": "63e6984b-1945-46d5-93e6-8d361f9fb397",
   "metadata": {},
   "outputs": [],
   "source": [
    "df_nc = df.loc[df[\"GT\"] == \"NC\"]\n",
    "df_nc.to_csv(\"data/fresh_run/release7_nocalls_predictions_imputations_wgs.csv\", index=False)"
   ]
  },
  {
   "cell_type": "markdown",
   "id": "3900aa19-860b-48db-b478-1e7dc82b1119",
   "metadata": {},
   "source": [
    "# Analysis"
   ]
  },
  {
   "cell_type": "markdown",
   "id": "1b284ce1-8df7-47aa-8b2c-e71953645490",
   "metadata": {},
   "source": [
    "If necessary, load dataframe with predictions, imputation, and WGS."
   ]
  },
  {
   "cell_type": "code",
   "execution_count": null,
   "id": "fe90197d-5202-46d5-9cdf-0c1d691e35e0",
   "metadata": {},
   "outputs": [],
   "source": [
    "df_nc = pd.read_csv(\"data/fresh_run/release7_nocalls_predictions_imputations_wgs.csv\", sep=\",\")"
   ]
  },
  {
   "cell_type": "markdown",
   "id": "9cd4a426-a161-4914-8c93-66c2f3e81ea0",
   "metadata": {},
   "source": [
    "## Summarize SNP Concordance"
   ]
  },
  {
   "cell_type": "markdown",
   "id": "408d90e1-c060-432e-83a1-d08e8c54502b",
   "metadata": {},
   "source": [
    "Create a summary dataframe with counts and mean rates of concordance per SNP."
   ]
  },
  {
   "cell_type": "code",
   "execution_count": 128,
   "id": "95d4cbb5-f510-4a0d-8d60-eb1c640ef446",
   "metadata": {},
   "outputs": [],
   "source": [
    "imputed_concordance_df = df_nc.groupby('snpID')['concordant_imputed'].mean() * 100\n",
    "imputed_concordance_df = imputed_concordance_df.to_frame().reset_index()"
   ]
  },
  {
   "cell_type": "code",
   "execution_count": 129,
   "id": "12c20b8b-2ebf-41b7-82ed-68698d860485",
   "metadata": {},
   "outputs": [],
   "source": [
    "wgs_concordance_df = df_nc.groupby('snpID')['concordant_wgs'].mean() * 100\n",
    "wgs_concordance_df = wgs_concordance_df.to_frame().reset_index()"
   ]
  },
  {
   "cell_type": "code",
   "execution_count": 130,
   "id": "18d69526-0ea2-4a3e-9bc6-3539c0e470c4",
   "metadata": {},
   "outputs": [],
   "source": [
    "summary_concordance_df = df_nc.groupby('snpID')['concordant_summary'].mean() * 100\n",
    "summary_concordance_df = summary_concordance_df.to_frame().reset_index()"
   ]
  },
  {
   "cell_type": "code",
   "execution_count": 131,
   "id": "570e7448-8ece-4d1d-b51c-d5537cf14f5b",
   "metadata": {},
   "outputs": [],
   "source": [
    "summary_df = imputed_concordance_df.merge(wgs_concordance_df, on=\"snpID\", how=\"outer\")\n",
    "summary_df = summary_df.merge(summary_concordance_df, on=\"snpID\", how=\"outer\")"
   ]
  },
  {
   "cell_type": "code",
   "execution_count": 132,
   "id": "5b9b354f-a6a5-4ee8-a395-9e485eab1f95",
   "metadata": {},
   "outputs": [],
   "source": [
    "imputed_counts_df = df_nc.groupby('snpID')['snpID_imputed'].apply(lambda x: x.notna().sum()).reset_index(name='counts_imputed')\n",
    "summary_df = summary_df.merge(imputed_counts_df, on=\"snpID\", how=\"outer\")"
   ]
  },
  {
   "cell_type": "code",
   "execution_count": 133,
   "id": "6d9d9245-0c5c-41a7-a427-d1b2e6c92274",
   "metadata": {},
   "outputs": [],
   "source": [
    "wgs_counts_df = df_nc.groupby('snpID')['snpID_wgs'].apply(lambda x: x.notna().sum()).reset_index(name='counts_wgs')\n",
    "summary_df = summary_df.merge(wgs_counts_df, on=\"snpID\", how=\"outer\")"
   ]
  },
  {
   "cell_type": "markdown",
   "id": "3867770e-4306-44f6-8af2-d034bcb87ba7",
   "metadata": {},
   "source": [
    "Add gene to summary_df to help with later analysis."
   ]
  },
  {
   "cell_type": "code",
   "execution_count": 134,
   "id": "4974dbb1-624e-4f6c-a501-24915ea4df3e",
   "metadata": {},
   "outputs": [],
   "source": [
    "extra_info = df_nc[[\"snpID\",\"gene\"]]\n",
    "extra_info = extra_info.drop_duplicates()\n",
    "summary_df = summary_df.merge(extra_info, on=\"snpID\", how=\"inner\")"
   ]
  },
  {
   "cell_type": "code",
   "execution_count": 135,
   "id": "540b945d-db7a-4bc9-acaf-c6f67f19ce3c",
   "metadata": {},
   "outputs": [],
   "source": [
    "summary_df.to_csv(\"data/fresh_run/summary_concordance.csv\", index=False)"
   ]
  },
  {
   "cell_type": "markdown",
   "id": "b5d47596-cef6-427d-a050-07458c2920ac",
   "metadata": {},
   "source": [
    "## Define High-Performing SNPS"
   ]
  },
  {
   "cell_type": "markdown",
   "id": "56e166ee-4cf9-4067-b555-2095a7c5794b",
   "metadata": {},
   "source": [
    "High-performing SNPs are SNPs for which Cluster Buster predicted genotypes are in concordance with imputed GTs and/or WGS at a rate of at least 90%."
   ]
  },
  {
   "cell_type": "code",
   "execution_count": 137,
   "id": "79b17ce7-d521-4669-924c-ba87d04ba69e",
   "metadata": {},
   "outputs": [],
   "source": [
    "threshold = 90\n",
    "\n",
    "high_performing = summary_df.loc[\n",
    "    ((summary_df[\"concordant_wgs\"] >= threshold) | pd.isna(summary_df[\"concordant_wgs\"])) &\n",
    "    ((summary_df[\"concordant_imputed\"] >= threshold) | pd.isna(summary_df[\"concordant_imputed\"])) &\n",
    "    ((summary_df[\"concordant_imputed\"] >= threshold) | (summary_df[\"concordant_wgs\"] >= threshold))\n",
    "]"
   ]
  },
  {
   "cell_type": "markdown",
   "id": "d84ebae3-d2c1-45ef-afe6-5b8078e090f3",
   "metadata": {},
   "source": [
    "## Calculate New Call Rate for High-Performing SNPs"
   ]
  },
  {
   "cell_type": "markdown",
   "id": "d64aa96d-8f93-46a8-9b39-6a93f9c5e0ca",
   "metadata": {},
   "source": [
    "Load missingness for release 7 and merge with high performing SNPs."
   ]
  },
  {
   "cell_type": "code",
   "execution_count": 138,
   "id": "9655dec3-93a8-4ed6-bf65-417a57c4e891",
   "metadata": {},
   "outputs": [],
   "source": [
    "miss = pd.read_csv(\"data/jessica_release7_miss.lmiss\", sep=\"\\s+\")\n",
    "miss[\"original_call_rate\"] = 1 - miss[\"F_MISS\"]"
   ]
  },
  {
   "cell_type": "code",
   "execution_count": 139,
   "id": "0996ec53-605c-4379-a5e8-c03d06b0ed10",
   "metadata": {},
   "outputs": [],
   "source": [
    "high_performing = high_performing.merge(miss, left_on=\"snpID\", right_on=\"SNP\", how=\"left\")"
   ]
  },
  {
   "cell_type": "markdown",
   "id": "17dbe5d2-285d-4bb8-84be-1dfda8bc08db",
   "metadata": {},
   "source": [
    "Narrow down predictions to previous no-calls and predicted genotypes are concordant with imputation/WGS and add counts to high performing snp dataframe."
   ]
  },
  {
   "cell_type": "code",
   "execution_count": 140,
   "id": "8b0f1b40-9c42-42b7-a8a4-f03eb124eef5",
   "metadata": {},
   "outputs": [],
   "source": [
    "trusted_predictions = df_nc.loc[df_nc[\"snpID\"].isin(high_performing[\"snpID\"].unique())]\n",
    "trusted_predictions.columns\n",
    "correct_predictions = trusted_predictions[trusted_predictions['concordant_summary'] == True]\n",
    "counts = correct_predictions.groupby(\"snpID\").size().astype(int)\n",
    "counts = counts.to_frame(name=\"new_counts\").reset_index()\n",
    "\n",
    "high_performing = high_performing.merge(counts, on=\"snpID\", how=\"left\")"
   ]
  },
  {
   "cell_type": "markdown",
   "id": "f1fafa5a-21d7-4e48-98c3-1043ac18000f",
   "metadata": {},
   "source": [
    "Calculate new call rate (new_call_rate) for release 7 when well predicted genotypes from Cluster Buster are added."
   ]
  },
  {
   "cell_type": "code",
   "execution_count": 141,
   "id": "4852fe0c-0d47-44bd-9cab-702a2afd00ca",
   "metadata": {},
   "outputs": [],
   "source": [
    "high_performing[\"N_MISS_NEW\"] = high_performing[\"N_MISS\"] - high_performing[\"new_counts\"]\n",
    "high_performing[\"F_MISS_NEW\"] = high_performing[\"N_MISS_NEW\"] / high_performing[\"N_GENO\"]\n",
    "high_performing[\"new_call_rate\"] = 1 - high_performing[\"F_MISS_NEW\"]"
   ]
  },
  {
   "cell_type": "markdown",
   "id": "b831797e-b40a-4c32-9f02-766694fc00ee",
   "metadata": {},
   "source": [
    "Calculate difference in call rate between old and new call rate."
   ]
  },
  {
   "cell_type": "code",
   "execution_count": 142,
   "id": "ef3db55b-fcc6-4a5a-9e44-e1364a198766",
   "metadata": {},
   "outputs": [],
   "source": [
    "high_performing[\"call_rate_difference\"] = high_performing[\"new_call_rate\"] - high_performing[\"original_call_rate\"]\n",
    "high_performing = high_performing.sort_values(by=\"call_rate_difference\", ascending=False)"
   ]
  },
  {
   "cell_type": "code",
   "execution_count": 147,
   "id": "87da065f-4f64-4d97-a642-aee33d764ad4",
   "metadata": {},
   "outputs": [
    {
     "data": {
      "text/plain": [
       "gene\n",
       "LRRK2    43\n",
       "APOE     30\n",
       "GBA      28\n",
       "Name: count, dtype: int64"
      ]
     },
     "execution_count": 147,
     "metadata": {},
     "output_type": "execute_result"
    }
   ],
   "source": [
    "high_performing[\"gene\"].value_counts()"
   ]
  },
  {
   "cell_type": "code",
   "execution_count": 153,
   "id": "206542fd-1a17-40fb-98b1-848b782f7cdc",
   "metadata": {},
   "outputs": [],
   "source": [
    "high_performing.to_csv(\"data/fresh_run/high_performing_snps.csv\", index=False)"
   ]
  },
  {
   "cell_type": "markdown",
   "id": "12e6dd35-4e66-4484-9b6c-a6029aef4b21",
   "metadata": {},
   "source": [
    "## Explore SNPs Recovered at Various Concordance Thresholds"
   ]
  },
  {
   "cell_type": "code",
   "execution_count": 144,
   "id": "4f7c668e-cdf9-470d-abb5-3547ba7465db",
   "metadata": {},
   "outputs": [],
   "source": [
    "thresholds = [50, 60, 70, 80, 85, 90, 95]\n",
    "\n",
    "results = pd.DataFrame()\n",
    "\n",
    "results = summary_df['gene'].value_counts().reset_index()\n",
    "results.columns = ['gene', 'original_count']\n",
    "\n",
    "for threshold in thresholds:\n",
    "    filtered_df = summary_df.loc[\n",
    "        ((summary_df[\"concordant_wgs\"] >= threshold) | pd.isna(summary_df[\"concordant_wgs\"])) &\n",
    "        ((summary_df[\"concordant_imputed\"] >= threshold) | pd.isna(summary_df[\"concordant_imputed\"])) &\n",
    "        ((summary_df[\"concordant_imputed\"] >= threshold) | (summary_df[\"concordant_wgs\"] >= threshold))\n",
    "    \n",
    "    ]\n",
    "    \n",
    "    counts = filtered_df[\"gene\"].value_counts().reset_index()\n",
    "    counts.columns = ['gene', f'count_threshold_{threshold}']\n",
    "    \n",
    "    if results.empty:\n",
    "        results = counts\n",
    "    else:\n",
    "        results = pd.merge(results, counts, on='gene', how='outer')\n",
    "\n",
    "results = results.fillna(0)\n",
    "for col in results.columns:\n",
    "    if col.startswith(\"count_threshold_\"):\n",
    "        results[col] = results[col].astype(int)"
   ]
  },
  {
   "cell_type": "code",
   "execution_count": 152,
   "id": "72bd67ba-92cd-47e0-9cec-c5d896ee7429",
   "metadata": {},
   "outputs": [],
   "source": [
    "results.to_csv(\"data/fresh_run/snp_counts_recovered_thresholds.csv\", index=False)"
   ]
  }
 ],
 "metadata": {
  "kernelspec": {
   "display_name": "Python 3 (ipykernel)",
   "language": "python",
   "name": "python3"
  },
  "language_info": {
   "codemirror_mode": {
    "name": "ipython",
    "version": 3
   },
   "file_extension": ".py",
   "mimetype": "text/x-python",
   "name": "python",
   "nbconvert_exporter": "python",
   "pygments_lexer": "ipython3",
   "version": "3.9.19"
  }
 },
 "nbformat": 4,
 "nbformat_minor": 5
}
