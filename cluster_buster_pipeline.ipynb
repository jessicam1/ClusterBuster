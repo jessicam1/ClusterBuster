{
 "cells": [
  {
   "cell_type": "markdown",
   "id": "3e8485bb-8dd0-4cc3-9f0d-c3707102bf56",
   "metadata": {},
   "source": [
    "# Cluster Buster Pipeline"
   ]
  },
  {
   "cell_type": "markdown",
   "id": "4d8cf115-f876-46e3-85fa-3117a6b49e63",
   "metadata": {},
   "source": [
    "## Gather and Clean Data"
   ]
  },
  {
   "cell_type": "code",
   "execution_count": 11,
   "id": "034f8e18-8b9d-4f64-a1c3-2bcd606724a5",
   "metadata": {
    "tags": []
   },
   "outputs": [
    {
     "name": "stdout",
     "output_type": "stream",
     "text": [
      "24787285\n"
     ]
    }
   ],
   "source": [
    "# testing create_data.py\n",
    "wrap_text=\"bash create_data.sh data/ndd_genes_pos_uniq.txt /data/CARD_AA/projects/2023_05_JM_gt_clusters/snp_metrics/snp_metrics_204842400049/Sample_ID=204842400049_R01C01 /data/CARD_AA/projects/2023_05_JM_gt_clusters/snp_metrics/gp2_sampleids_release6_with_ancestries.tab /data/GP2/raw_genotypes/snp_metrics /data/CARD_AA/projects/2023_05_JM_gt_clusters/capstone/data/\"\n",
    "!sbatch --cpus-per-task=2 --mem=20g --time=2:00:00 --wrap=\"$wrap_text\""
   ]
  },
  {
   "cell_type": "markdown",
   "id": "15403756-0063-4c22-9fe0-7f0a048bab91",
   "metadata": {},
   "source": [
    "## Create, Train, and Save Neural Network"
   ]
  },
  {
   "cell_type": "code",
   "execution_count": null,
   "id": "08345030-34ee-4f6b-a8f6-cf552ebb0ea2",
   "metadata": {},
   "outputs": [],
   "source": [
    "# runs create_model.py in focalloss environment \n",
    "! sbatch --mem=40g --cpus-per-task=4 --partition=gpu --gres=gpu:v100x:2,lscratch:200 --time=1-0 --mail-type=BEGIN,END create_model.sh"
   ]
  },
  {
   "cell_type": "markdown",
   "id": "0da2b690-810d-468b-9ca8-4fd556eded52",
   "metadata": {},
   "source": [
    "## Render Predictions"
   ]
  },
  {
   "cell_type": "markdown",
   "id": "d14b7688-eda3-4641-8e5b-b798d7777c70",
   "metadata": {},
   "source": [
    "### on all no-NC data"
   ]
  },
  {
   "cell_type": "code",
   "execution_count": null,
   "id": "9df6944b-1790-42bc-94ea-f2483da4c29a",
   "metadata": {},
   "outputs": [],
   "source": [
    "! cat data/train.csv data/val.csv data/test.csv > no_nc.csv"
   ]
  },
  {
   "cell_type": "code",
   "execution_count": 26,
   "id": "dd55bbe5-1876-4331-a011-fda0fe43a147",
   "metadata": {},
   "outputs": [
    {
     "name": "stdout",
     "output_type": "stream",
     "text": [
      "24805256\n"
     ]
    }
   ],
   "source": [
    "wrap_text=\"bash src/predictions.sh model/gt_model.keras data/no_nc.csv data/no_nc_predictions.csv\"\n",
    "!sbatch --cpus-per-task=2 --mem=20g --time=2:00:00 --wrap=\"$wrap_text\""
   ]
  },
  {
   "cell_type": "markdown",
   "id": "15d629be-7dc0-4ac1-b4b7-e7f82c5d7fff",
   "metadata": {},
   "source": [
    "### on test data"
   ]
  },
  {
   "cell_type": "code",
   "execution_count": 28,
   "id": "967c5ae2-53e2-46c8-95c4-c78311c64c9b",
   "metadata": {
    "tags": []
   },
   "outputs": [
    {
     "name": "stdout",
     "output_type": "stream",
     "text": [
      "24805257\n"
     ]
    }
   ],
   "source": [
    "wrap_text=\"bash src/predictions.sh model/gt_model.keras data/test.csv data/test_predictions.csv\"\n",
    "!sbatch --cpus-per-task=2 --mem=20g --time=2:00:00 --wrap=\"$wrap_text\""
   ]
  },
  {
   "cell_type": "markdown",
   "id": "f3989add-f577-499e-85b0-83e4becf685c",
   "metadata": {},
   "source": [
    "### on no-calls"
   ]
  },
  {
   "cell_type": "code",
   "execution_count": 29,
   "id": "302835c8-5535-46c7-87c8-d8e76f74510d",
   "metadata": {
    "tags": []
   },
   "outputs": [
    {
     "name": "stdout",
     "output_type": "stream",
     "text": [
      "24805261\n"
     ]
    }
   ],
   "source": [
    "wrap_text=\"bash src/predictions.sh model/gt_model.keras data/nc_test.csv data/nc_predictions.csv\"\n",
    "!sbatch --partition=gpu --cpus-per-task=2 --mem=20g --gres=gpu:v100x:2,lscratch:200 --time=2:00:00 --wrap=\"$wrap_text\""
   ]
  },
  {
   "cell_type": "markdown",
   "id": "781b9682-9c1f-423a-8c79-ab8456ceca70",
   "metadata": {},
   "source": [
    "## Mark Outliers"
   ]
  },
  {
   "cell_type": "code",
   "execution_count": 8,
   "id": "fd042119-9f7e-42bf-b7d3-6a28c3bd9a5c",
   "metadata": {},
   "outputs": [
    {
     "name": "stdout",
     "output_type": "stream",
     "text": [
      "25618447\n"
     ]
    }
   ],
   "source": [
    "wrap_text=\"bash src/outlier_detection.sh data/no_nc_predictions.csv data/nc_predictions.csv 0.5 2 data/GP2_release6_maf.frq /data/CARD_AA/projects/2023_05_JM_gt_clusters/snp_metrics/hg38_maf/ data/new_outliers.csv\"\n",
    "!sbatch --cpus-per-task=2 --mem=40g --time=4:00:00 --wrap=\"$wrap_text\""
   ]
  },
  {
   "cell_type": "code",
   "execution_count": 7,
   "id": "8a00fee5-53c3-4419-86fe-ff955fcac307",
   "metadata": {},
   "outputs": [],
   "source": [
    "! scancel 25618445"
   ]
  },
  {
   "cell_type": "markdown",
   "id": "acc56309-264b-4832-9a3f-ea303225000e",
   "metadata": {},
   "source": [
    "## Visualize SNPs with App"
   ]
  },
  {
   "cell_type": "code",
   "execution_count": null,
   "id": "fbfbeba0-480c-445e-a239-2ef1ae4bd715",
   "metadata": {},
   "outputs": [
    {
     "name": "stdout",
     "output_type": "stream",
     "text": [
      "\n",
      "Collecting usage statistics. To deactivate, set browser.gatherUsageStats to false.\n",
      "\u001b[0m\n",
      "\u001b[0m\n",
      "\u001b[34m\u001b[1m  You can now view your Streamlit app in your browser.\u001b[0m\n",
      "\u001b[0m\n",
      "\u001b[34m  Network URL: \u001b[0m\u001b[1mhttp://127.0.0.1:8501\u001b[0m\n",
      "\u001b[34m  External URL: \u001b[0m\u001b[1mhttp://128.231.2.73:8501\u001b[0m\n",
      "\u001b[0m\n"
     ]
    }
   ],
   "source": [
    "! streamlit run visualizing_snps_app.py --server.enableXsrfProtection false"
   ]
  }
 ],
 "metadata": {
  "kernelspec": {
   "display_name": "Python 3 (ipykernel)",
   "language": "python",
   "name": "python3"
  },
  "language_info": {
   "codemirror_mode": {
    "name": "ipython",
    "version": 3
   },
   "file_extension": ".py",
   "mimetype": "text/x-python",
   "name": "python",
   "nbconvert_exporter": "python",
   "pygments_lexer": "ipython3",
   "version": "3.9.19"
  }
 },
 "nbformat": 4,
 "nbformat_minor": 5
}
