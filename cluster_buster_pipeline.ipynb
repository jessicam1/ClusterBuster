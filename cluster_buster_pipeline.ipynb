{
 "cells": [
  {
   "cell_type": "markdown",
   "id": "3e8485bb-8dd0-4cc3-9f0d-c3707102bf56",
   "metadata": {},
   "source": [
    "# Cluster Buster Pipeline"
   ]
  },
  {
   "cell_type": "markdown",
   "id": "573a3f5e-8bc2-4b97-90d5-ea566466f3c8",
   "metadata": {},
   "source": [
    "This is a pipline that accomplishes the following:\n",
    "1. creates training, validation, testing, and no-call data from snp metrics for the neural network (create_data.sh runs create_data.py)\n",
    "2. finds the optimal model structure and trains neural network model (create_model.sh runs create_model.py)\n",
    "3. renders genotype predictions on snp metrics datasets (predictions.sh runs predictions.py)\n",
    "4. creates figures to visualize genotypes of each snp (plot_snp_figures.sh runs plot_snp_figures.py)\n",
    "\n",
    "Set variables in the top cell and then run the cells following."
   ]
  },
  {
   "cell_type": "markdown",
   "id": "e571d558-2add-4654-9e54-5b65e89bb00e",
   "metadata": {},
   "source": [
    "## Set Variables"
   ]
  },
  {
   "cell_type": "code",
   "execution_count": null,
   "id": "f110fcec-43e5-4b07-ac17-7e76f057c2a7",
   "metadata": {},
   "outputs": [],
   "source": [
    "conda_environment_name = \"focalloss\"\n",
    "conda_source = \"/data/$USER/conda/etc/profile.d/conda.sh\"\n",
    "mamba_source = \"/data/$USER/conda/etc/profile.d/mamba.sh\"\n",
    "\n",
    "snp_list = \"dummy/snpid_list.txt\"\n",
    "parquet_list = \"dummy/dummy_pq_list.txt\"\n",
    "training_data = \"dummy/dummy_train.csv\"\n",
    "validation_data = \"dummy/dummy_val.csv\"\n",
    "test_data = \"dummy/dummy_holdout.csv\"\n",
    "nocalls_data = \"dummy/dummy_nocalls.csv\"\n",
    "training_proportion = 0.80\n",
    "validation_proportion = 0.10 \n",
    "snp_map = \"dummy/dummy_snp_map.csv\"\n",
    "\n",
    "model_directory = \"dummy\"\n",
    "tuner_project_name = \"dummy_tuner\"\n",
    "model_name = \"dummy_model.keras\"\n",
    "\n",
    "training_predictions = \"dummy/dummy_train_predictions.csv\"\n",
    "validation_predictions = \"dummy/dummy_val_predictions.csv\"\n",
    "test_predictions = \"dummy/dummy_test_predictions.csv\"\n",
    "nocalls_predictions = \"dummy/dummy_nc_predictions.csv\"\n",
    "\n",
    "figures_directory = \"dummy/dummy_figs\""
   ]
  },
  {
   "cell_type": "markdown",
   "id": "895d5e6d-0623-4d42-8f33-dad1e175df93",
   "metadata": {},
   "source": [
    "Set run_on_hpc to True if you want to use sbatch commands. Setting run_on_hpc to False runs commands in jupyter notebook."
   ]
  },
  {
   "cell_type": "code",
   "execution_count": null,
   "id": "403588e4-08a6-4470-88af-025c3598736e",
   "metadata": {},
   "outputs": [],
   "source": [
    "run_on_hpc = False"
   ]
  },
  {
   "cell_type": "markdown",
   "id": "bbe1dd96-1aac-48bc-9960-79aebb93dffc",
   "metadata": {},
   "source": [
    "## Gather and Clean Data"
   ]
  },
  {
   "cell_type": "code",
   "execution_count": null,
   "id": "cc65e517-b1d3-43ba-9f1a-81598abc933a",
   "metadata": {},
   "outputs": [],
   "source": [
    "create_data_command = (\n",
    "    \"bash src/create_data.sh \"\n",
    "    f\"{conda_source} \"\n",
    "    f\"{mamba_source} \"\n",
    "    f\"{conda_environment_name} \"\n",
    "    f\"{snp_list} \"\n",
    "    f\"{parquet_list} \"\n",
    "    f\"{training_proportion} \"\n",
    "    f\"{validation_proportion} \"\n",
    "    f\"{training_data} \"\n",
    "    f\"{validation_data} \"\n",
    "    f\"{holdout_data} \"\n",
    "    f\"{nocalls_data} \"\n",
    "    f\"{snp_map} \"\n",
    ")"
   ]
  },
  {
   "cell_type": "code",
   "execution_count": null,
   "id": "2eca2995-6831-4acb-a941-f7ce58f26234",
   "metadata": {},
   "outputs": [],
   "source": [
    "if run_on_hpc:\n",
    "    !sbatch --cpus-per-task=2 --mem=20g --time=2:00:00 --wrap=\"$create_data_command\"\n",
    "else:\n",
    "    !{create_data_command}"
   ]
  },
  {
   "cell_type": "markdown",
   "id": "15403756-0063-4c22-9fe0-7f0a048bab91",
   "metadata": {},
   "source": [
    "## Create, Train, and Save Neural Network"
   ]
  },
  {
   "cell_type": "code",
   "execution_count": null,
   "id": "824ebaeb-5b5f-4101-a183-dc67bfe37087",
   "metadata": {},
   "outputs": [],
   "source": [
    "train_model_command = (\n",
    "    \"bash src/create_model.sh \"\n",
    "    f\"{conda_source} \"\n",
    "    f\"{mamba_source} \"\n",
    "    f\"{conda_environment_name} \"    \n",
    "    f\"{model_directory} \"\n",
    "    f\"{model_name} \"\n",
    "    f\"{tuner_project_name} \"\n",
    "    f\"{training_data} \"\n",
    "    f\"{validation_data} \"\n",
    ")"
   ]
  },
  {
   "cell_type": "code",
   "execution_count": null,
   "id": "1dc668a4-603a-4d3c-9174-4233ad857c7f",
   "metadata": {},
   "outputs": [],
   "source": [
    "if run_on_hpc:\n",
    "    !sbatch --mem=40g --cpus-per-task=4 --partition=gpu --gres=gpu:v100x:2,lscratch:200 --time=1-0 --wrap=\"$train_model_command\"\n",
    "else:\n",
    "    !{train_model_command}"
   ]
  },
  {
   "cell_type": "markdown",
   "id": "0da2b690-810d-468b-9ca8-4fd556eded52",
   "metadata": {},
   "source": [
    "## Render Predictions"
   ]
  },
  {
   "cell_type": "markdown",
   "id": "d65670be-a03f-42cf-94cf-86a366707104",
   "metadata": {},
   "source": [
    "### on training data"
   ]
  },
  {
   "cell_type": "code",
   "execution_count": null,
   "id": "d9dfec3e-5de8-4aec-a7b1-93aa6abccb5d",
   "metadata": {},
   "outputs": [],
   "source": [
    "training_predictions_command = (\n",
    "    \"bash src/predictions.sh \"\n",
    "    f\"{conda_source} \"\n",
    "    f\"{mamba_source} \"\n",
    "    f\"{conda_environment_name} \"    \n",
    "    f\"{model_directory}/{model_name} \"\n",
    "    f\"{snp_map} \"\n",
    "    f\"{training_data} \"\n",
    "    f\"{training_predictions} \"\n",
    ")"
   ]
  },
  {
   "cell_type": "code",
   "execution_count": null,
   "id": "5e00f168-6604-4a64-9d0f-e39531a8f72d",
   "metadata": {},
   "outputs": [],
   "source": [
    "if run_on_hpc:\n",
    "    !sbatch --cpus-per-task=2 --mem=20g --time=2:00:00 --wrap=\"$training_predictions_command\"\n",
    "else:\n",
    "    !{training_predictions_command}"
   ]
  },
  {
   "cell_type": "markdown",
   "id": "b4d1fcb1-06cd-43eb-8a3a-26b3f39347d9",
   "metadata": {},
   "source": [
    "### on validation data"
   ]
  },
  {
   "cell_type": "code",
   "execution_count": null,
   "id": "98d753d7-e431-4431-bdd0-1815fdfb1f81",
   "metadata": {},
   "outputs": [],
   "source": [
    "validation_predictions_command = (\n",
    "    \"bash src/predictions.sh \"\n",
    "    f\"{conda_source} \"\n",
    "    f\"{mamba_source} \"\n",
    "    f\"{conda_environment_name} \"    \n",
    "    f\"{model_directory}/{model_name} \"\n",
    "    f\"{snp_map} \"\n",
    "    f\"{validation_data} \"\n",
    "    f\"{validation_predictions} \"\n",
    ")"
   ]
  },
  {
   "cell_type": "code",
   "execution_count": null,
   "id": "7b958221-3fff-48a1-a1c0-ebba8f915d5a",
   "metadata": {},
   "outputs": [],
   "source": [
    "if run_on_hpc:\n",
    "    !sbatch --cpus-per-task=2 --mem=20g --time=2:00:00 --wrap=\"$validation_predictions_command\"\n",
    "else:\n",
    "    !{validation_predictions_command}"
   ]
  },
  {
   "cell_type": "markdown",
   "id": "15d629be-7dc0-4ac1-b4b7-e7f82c5d7fff",
   "metadata": {},
   "source": [
    "### on test data"
   ]
  },
  {
   "cell_type": "code",
   "execution_count": null,
   "id": "967c5ae2-53e2-46c8-95c4-c78311c64c9b",
   "metadata": {
    "tags": []
   },
   "outputs": [],
   "source": [
    "test_predictions_command = (\n",
    "    \"bash src/predictions.sh \"\n",
    "    f\"{conda_source} \"\n",
    "    f\"{mamba_source} \"\n",
    "    f\"{conda_environment_name} \"    \n",
    "    f\"{model_directory}/{model_name} \"\n",
    "    f\"{snp_map} \"\n",
    "    f\"{test_data} \"\n",
    "    f\"{test_predictions} \"\n",
    ")"
   ]
  },
  {
   "cell_type": "code",
   "execution_count": null,
   "id": "81e4535e-572b-4595-a4d2-68b55a7703d1",
   "metadata": {},
   "outputs": [],
   "source": [
    "if run_on_hpc:\n",
    "    !sbatch --cpus-per-task=2 --mem=20g --time=2:00:00 --wrap=\"$test_predictions_command\"\n",
    "else:\n",
    "    !{test_predictions_command}"
   ]
  },
  {
   "cell_type": "markdown",
   "id": "f3989add-f577-499e-85b0-83e4becf685c",
   "metadata": {},
   "source": [
    "### on no-calls"
   ]
  },
  {
   "cell_type": "code",
   "execution_count": null,
   "id": "778932ad-2a12-4b2e-9ddd-389d9573918e",
   "metadata": {},
   "outputs": [],
   "source": [
    "nocalls_predictions_command = (\n",
    "    \"bash src/predictions.sh \"\n",
    "    f\"{conda_source} \"\n",
    "    f\"{mamba_source} \"\n",
    "    f\"{conda_environment_name} \"    \n",
    "    f\"{model_directory}/{model_name} \"\n",
    "    f\"{snp_map} \"\n",
    "    f\"{nocalls_data} \"\n",
    "    f\"{nocalls_predictions} \"\n",
    ")"
   ]
  },
  {
   "cell_type": "code",
   "execution_count": null,
   "id": "302835c8-5535-46c7-87c8-d8e76f74510d",
   "metadata": {
    "tags": []
   },
   "outputs": [],
   "source": [
    "if run_on_hpc:\n",
    "    !sbatch --cpus-per-task=2 --mem=20g --time=2:00:00 --wrap=\"$nocalls_predictions_command\"\n",
    "else:\n",
    "    !{nocalls_predictions_command}"
   ]
  },
  {
   "cell_type": "markdown",
   "id": "929530cd-a09e-458e-8598-90818b0386c2",
   "metadata": {},
   "source": [
    "## Plot SNPs from Training, Validation, Testing, and No Call Sets"
   ]
  },
  {
   "cell_type": "code",
   "execution_count": null,
   "id": "2e49d44a-6e80-4e86-a2ee-dc342e6a894b",
   "metadata": {},
   "outputs": [],
   "source": [
    "plot_snps_command = (\n",
    "    \"bash src/plot_snp_figures.sh \"\n",
    "    f\"{conda_source} \"\n",
    "    f\"{mamba_source} \"\n",
    "    f\"{conda_environment_name} \"   \n",
    "    f\"{snp_list} \"\n",
    "    f\"{nocalls_predictions} {training_predictions} {validation_predictions} {test_predictions} \"\n",
    "    f\"{figures_directory} \"\n",
    "    f\"--plot_predicted\"\n",
    ")\n"
   ]
  },
  {
   "cell_type": "code",
   "execution_count": null,
   "id": "85576fc4-f3ac-4416-bf3a-4b385228a977",
   "metadata": {},
   "outputs": [],
   "source": [
    "if run_on_hpc:\n",
    "    !sbatch --cpus-per-task=2 --mem=20g --time=2:00:00 --wrap=\"$plot_snps_command\"\n",
    "else:\n",
    "    !{plot_snps_command}"
   ]
  }
 ],
 "metadata": {
  "kernelspec": {
   "display_name": "Python 3",
   "language": "python",
   "name": "python3"
  },
  "language_info": {
   "codemirror_mode": {
    "name": "ipython",
    "version": 3
   },
   "file_extension": ".py",
   "mimetype": "text/x-python",
   "name": "python",
   "nbconvert_exporter": "python",
   "pygments_lexer": "ipython3",
   "version": "3.10.6 (v3.10.6:9c7b4bd164, Aug  1 2022, 17:13:48) [Clang 13.0.0 (clang-1300.0.29.30)]"
  },
  "vscode": {
   "interpreter": {
    "hash": "aee8b7b246df8f9039afb4144a1f6fd8d2ca17a180786b69acc140d282b71a49"
   }
  }
 },
 "nbformat": 4,
 "nbformat_minor": 5
}
